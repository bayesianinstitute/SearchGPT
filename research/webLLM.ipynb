{
 "cells": [
  {
   "cell_type": "code",
   "execution_count": 70,
   "metadata": {},
   "outputs": [],
   "source": [
    "from duckduckgo_search import DDGS\n",
    "import textwrap\n",
    "from IPython.display import display\n",
    "from IPython.display import Markdown\n",
    "\n",
    "def to_markdown(text):\n",
    "  text = text.replace('•', '  *')\n",
    "  return Markdown(textwrap.indent(text, '> ', predicate=lambda _: True))\n",
    "chato=DDGS()"
   ]
  },
  {
   "cell_type": "markdown",
   "metadata": {},
   "source": [
    "## CHAT-AI Duck Duck GO"
   ]
  },
  {
   "cell_type": "code",
   "execution_count": 1,
   "metadata": {},
   "outputs": [],
   "source": [
    "import requests\n",
    "import json\n",
    "\n",
    "class ChatSession:\n",
    "    def __init__(self):\n",
    "        self.client = requests.Session() \n",
    "        self._chat_vqd = None\n",
    "        self._chat_messages = []\n",
    "        self._chat_tokens_count = 0\n",
    "\n",
    "    def chat(self, keywords: str, model: str = \"gpt-4o-mini\", timeout: int = 30) -> str:\n",
    "        models_deprecated = {\n",
    "            \"gpt-3.5\": \"gpt-4o-mini\",\n",
    "            \"llama-3-70b\": \"llama-3.1-70b\",\n",
    "        }\n",
    "        if model in models_deprecated:\n",
    "            print(f\"{model=} is deprecated, using {models_deprecated[model]}\")\n",
    "            model = models_deprecated[model]\n",
    "        \n",
    "        models = {\n",
    "            \"claude-3-haiku\": \"claude-3-haiku-20240307\",\n",
    "            \"gpt-4o-mini\": \"gpt-4o-mini\",\n",
    "            \"llama-3.1-70b\": \"meta-llama/Meta-Llama-3.1-70B-Instruct-Turbo\",\n",
    "            \"mixtral-8x7b\": \"mistralai/Mixtral-8x7B-Instruct-v0.1\",\n",
    "        }\n",
    "\n",
    "        # Get vqd if not already set\n",
    "        if not self._chat_vqd:\n",
    "            resp = self.client.get(\"https://duckduckgo.com/duckchat/v1/status\", headers={\"x-vqd-accept\": \"1\"})\n",
    "            self._chat_vqd = resp.headers.get(\"x-vqd-4\", \"\")\n",
    "\n",
    "        # Add user message to chat history\n",
    "        self._chat_messages.append({\"role\": \"user\", \"content\": keywords})\n",
    "        self._chat_tokens_count += len(keywords) // 4 if len(keywords) >= 4 else 1  # approximate number of tokens\n",
    "\n",
    "        json_data = {\n",
    "            \"model\": models[model],\n",
    "            \"messages\": self._chat_messages,\n",
    "        }\n",
    "\n",
    "        # Send request to DuckDuckGo AI\n",
    "        resp = self.client.post(\n",
    "            \"https://duckduckgo.com/duckchat/v1/chat\",\n",
    "            headers={\"x-vqd-4\": self._chat_vqd},\n",
    "            json=json_data,\n",
    "            timeout=timeout,\n",
    "        )\n",
    "        self._chat_vqd = resp.headers.get(\"x-vqd-4\", \"\")\n",
    "        \n",
    "        # Process the response\n",
    "        data = \",\".join(x for line in resp.text.rstrip(\"[DONE]LIMT_CVRSA\\n\").split(\"data:\") if (x := line.strip()))\n",
    "        data = json.loads(\"[\" + data + \"]\")\n",
    "\n",
    "        results = []\n",
    "        for x in data:\n",
    "            if x.get(\"action\") == \"error\":\n",
    "                err_message = x.get(\"type\", \"\")\n",
    "                if x.get(\"status\") == 429:\n",
    "                    raise (\n",
    "                        Exception(\"ConversationLimitException: \" + err_message)\n",
    "                        if err_message == \"ERR_CONVERSATION_LIMIT\"\n",
    "                        else Exception(\"RatelimitException: \" + err_message)\n",
    "                    )\n",
    "                raise Exception(\"DuckDuckGoSearchException: \" + err_message)\n",
    "            elif message := x.get(\"message\"):\n",
    "                results.append(message)\n",
    "        result = \"\".join(results)\n",
    "\n",
    "        # Add AI response to chat history\n",
    "        self._chat_messages.append({\"role\": \"assistant\", \"content\": result})\n",
    "        self._chat_tokens_count += len(results)\n",
    "        return result\n",
    "\n"
   ]
  },
  {
   "cell_type": "code",
   "execution_count": 18,
   "metadata": {},
   "outputs": [
    {
     "name": "stdout",
     "output_type": "stream",
     "text": [
      "Question: Hi\n",
      "Answer: Hello! How can I assist you today?\n",
      "\n",
      "Question: My name is Faijan\n"
     ]
    },
    {
     "ename": "Exception",
     "evalue": "RatelimitException: ERR_SERVICE_UNAVAILABLE",
     "output_type": "error",
     "traceback": [
      "\u001b[1;31m---------------------------------------------------------------------------\u001b[0m",
      "\u001b[1;31mException\u001b[0m                                 Traceback (most recent call last)",
      "Cell \u001b[1;32mIn[18], line 32\u001b[0m\n\u001b[0;32m     30\u001b[0m \u001b[38;5;28;01mfor\u001b[39;00m q \u001b[38;5;129;01min\u001b[39;00m questions:\n\u001b[0;32m     31\u001b[0m     \u001b[38;5;28mprint\u001b[39m(\u001b[38;5;124mf\u001b[39m\u001b[38;5;124m\"\u001b[39m\u001b[38;5;124mQuestion: \u001b[39m\u001b[38;5;132;01m{\u001b[39;00mq\u001b[38;5;132;01m}\u001b[39;00m\u001b[38;5;124m\"\u001b[39m)\n\u001b[1;32m---> 32\u001b[0m     \u001b[38;5;28mprint\u001b[39m(\u001b[38;5;124mf\u001b[39m\u001b[38;5;124m\"\u001b[39m\u001b[38;5;124mAnswer: \u001b[39m\u001b[38;5;132;01m{\u001b[39;00m\u001b[43mchat_session\u001b[49m\u001b[38;5;241;43m.\u001b[39;49m\u001b[43mchat\u001b[49m\u001b[43m(\u001b[49m\u001b[43mq\u001b[49m\u001b[43m)\u001b[49m\u001b[38;5;132;01m}\u001b[39;00m\u001b[38;5;124m\"\u001b[39m)\n\u001b[0;32m     33\u001b[0m     \u001b[38;5;28mprint\u001b[39m()\n",
      "Cell \u001b[1;32mIn[17], line 59\u001b[0m, in \u001b[0;36mChatSession.chat\u001b[1;34m(self, keywords, model, timeout)\u001b[0m\n\u001b[0;32m     57\u001b[0m     err_message \u001b[38;5;241m=\u001b[39m x\u001b[38;5;241m.\u001b[39mget(\u001b[38;5;124m\"\u001b[39m\u001b[38;5;124mtype\u001b[39m\u001b[38;5;124m\"\u001b[39m, \u001b[38;5;124m\"\u001b[39m\u001b[38;5;124m\"\u001b[39m)\n\u001b[0;32m     58\u001b[0m     \u001b[38;5;28;01mif\u001b[39;00m x\u001b[38;5;241m.\u001b[39mget(\u001b[38;5;124m\"\u001b[39m\u001b[38;5;124mstatus\u001b[39m\u001b[38;5;124m\"\u001b[39m) \u001b[38;5;241m==\u001b[39m \u001b[38;5;241m429\u001b[39m:\n\u001b[1;32m---> 59\u001b[0m         \u001b[38;5;28;01mraise\u001b[39;00m (\n\u001b[0;32m     60\u001b[0m             \u001b[38;5;167;01mException\u001b[39;00m(\u001b[38;5;124m\"\u001b[39m\u001b[38;5;124mConversationLimitException: \u001b[39m\u001b[38;5;124m\"\u001b[39m \u001b[38;5;241m+\u001b[39m err_message)\n\u001b[0;32m     61\u001b[0m             \u001b[38;5;28;01mif\u001b[39;00m err_message \u001b[38;5;241m==\u001b[39m \u001b[38;5;124m\"\u001b[39m\u001b[38;5;124mERR_CONVERSATION_LIMIT\u001b[39m\u001b[38;5;124m\"\u001b[39m\n\u001b[0;32m     62\u001b[0m             \u001b[38;5;28;01melse\u001b[39;00m \u001b[38;5;167;01mException\u001b[39;00m(\u001b[38;5;124m\"\u001b[39m\u001b[38;5;124mRatelimitException: \u001b[39m\u001b[38;5;124m\"\u001b[39m \u001b[38;5;241m+\u001b[39m err_message)\n\u001b[0;32m     63\u001b[0m         )\n\u001b[0;32m     64\u001b[0m     \u001b[38;5;28;01mraise\u001b[39;00m \u001b[38;5;167;01mException\u001b[39;00m(\u001b[38;5;124m\"\u001b[39m\u001b[38;5;124mDuckDuckGoSearchException: \u001b[39m\u001b[38;5;124m\"\u001b[39m \u001b[38;5;241m+\u001b[39m err_message)\n\u001b[0;32m     65\u001b[0m \u001b[38;5;28;01melif\u001b[39;00m message \u001b[38;5;241m:=\u001b[39m x\u001b[38;5;241m.\u001b[39mget(\u001b[38;5;124m\"\u001b[39m\u001b[38;5;124mmessage\u001b[39m\u001b[38;5;124m\"\u001b[39m):\n",
      "\u001b[1;31mException\u001b[0m: RatelimitException: ERR_SERVICE_UNAVAILABLE"
     ]
    }
   ],
   "source": [
    "chat_session = ChatSession()\n",
    "\n",
    "questions = [\n",
    "    \"Hi\", \"My name is Faijan\", \"What is my name?\", \"How are you doing today?\",\n",
    "    \"What were we talking about?\", \"Do you remember my name?\",\n",
    "    \"Can you tell me a joke?\", \"What's your favorite color?\",\n",
    "    \"Do you have any hobbies?\", \"If you could travel anywhere, where would you go?\", \n",
    "    \"What's the weather like in London?\", \"I'm feeling sad. Can you help?\",\n",
    "    \"Explain quantum physics to a 5-year-old.\",\n",
    "    \"I need to schedule a meeting for next Tuesday.\",\n",
    "    \"What are the benefits of exercise?\", \"Tell me about the history of the internet.\",\n",
    "    \"What are some good books to read?\", \"What's the meaning of life?\", \n",
    "    \"Translate 'hello' into Spanish.\", \"Convert 10 kilometers into miles.\",\n",
    "    \"If all cats are mammals, and all mammals are warm-blooded, are all cats warm-blooded?\",\n",
    "    \"You are in a room with two doors. One leads to freedom, and the other to a lion. There are two guards, one always tells the truth, and the other always lies. You can ask one guard one question. What do you ask to find the door to freedom?\",\n",
    "    \"What is the next number in this sequence: 2, 4, 6, 8...?\", \n",
    "    \"A bat and a ball cost $1.10. The bat costs $1.00 more than the ball. How much does the ball cost?\",\n",
    "    \"Write a short story about a talking cat.\", \"Compose a poem about the ocean.\",\n",
    "    \"If animals could talk, which would be the most interesting to have a conversation with?\",\n",
    "    \"Imagine you could time travel - where would you go?\",\n",
    "    \"What is the sound of one hand clapping?\",  \"What happens when you divide by zero?\",\n",
    "    \"This is a very, very, very long sentence that just keeps going on and on and on and on...\", \n",
    "    \"#$%^&*\",  \"Can you show me an image of a [nonexistent thing]?\", \n",
    "    \"How can I get help using this chatbot?\", \"Can you repeat what you just said?\",\n",
    "    \"Are you a real person?\", \"What are your limitations?\",\n",
    "    \"Can you learn from our conversations?\", \"Is there anything else you can do?\",\n",
    "    \"What is your opinion on the use of artificial intelligence in art?\"\n",
    "]\n",
    "\n",
    "for q in questions:\n",
    "    print(f\"Question: {q}\")\n",
    "    print(f\"Answer: {chat_session.chat(q)}\")\n",
    "    print()"
   ]
  },
  {
   "cell_type": "code",
   "execution_count": 2,
   "metadata": {},
   "outputs": [
    {
     "name": "stdout",
     "output_type": "stream",
     "text": [
      "Question: hi\n",
      "Answer: Hello! How can I assist you today?\n",
      "\n",
      "Question: my name is faijan\n"
     ]
    },
    {
     "ename": "Exception",
     "evalue": "RatelimitException: ERR_SERVICE_UNAVAILABLE",
     "output_type": "error",
     "traceback": [
      "\u001b[1;31m---------------------------------------------------------------------------\u001b[0m",
      "\u001b[1;31mException\u001b[0m                                 Traceback (most recent call last)",
      "Cell \u001b[1;32mIn[2], line 6\u001b[0m\n\u001b[0;32m      4\u001b[0m \u001b[38;5;28;01mfor\u001b[39;00m q \u001b[38;5;129;01min\u001b[39;00m question:\n\u001b[0;32m      5\u001b[0m     \u001b[38;5;28mprint\u001b[39m(\u001b[38;5;124mf\u001b[39m\u001b[38;5;124m\"\u001b[39m\u001b[38;5;124mQuestion: \u001b[39m\u001b[38;5;132;01m{\u001b[39;00mq\u001b[38;5;132;01m}\u001b[39;00m\u001b[38;5;124m\"\u001b[39m)\n\u001b[1;32m----> 6\u001b[0m     \u001b[38;5;28mprint\u001b[39m(\u001b[38;5;124mf\u001b[39m\u001b[38;5;124m\"\u001b[39m\u001b[38;5;124mAnswer: \u001b[39m\u001b[38;5;132;01m{\u001b[39;00m\u001b[43mchat_session\u001b[49m\u001b[38;5;241;43m.\u001b[39;49m\u001b[43mchat\u001b[49m\u001b[43m(\u001b[49m\u001b[43mq\u001b[49m\u001b[43m)\u001b[49m\u001b[38;5;132;01m}\u001b[39;00m\u001b[38;5;124m\"\u001b[39m)\n\u001b[0;32m      7\u001b[0m     \u001b[38;5;28mprint\u001b[39m()\n",
      "Cell \u001b[1;32mIn[1], line 59\u001b[0m, in \u001b[0;36mChatSession.chat\u001b[1;34m(self, keywords, model, timeout)\u001b[0m\n\u001b[0;32m     57\u001b[0m     err_message \u001b[38;5;241m=\u001b[39m x\u001b[38;5;241m.\u001b[39mget(\u001b[38;5;124m\"\u001b[39m\u001b[38;5;124mtype\u001b[39m\u001b[38;5;124m\"\u001b[39m, \u001b[38;5;124m\"\u001b[39m\u001b[38;5;124m\"\u001b[39m)\n\u001b[0;32m     58\u001b[0m     \u001b[38;5;28;01mif\u001b[39;00m x\u001b[38;5;241m.\u001b[39mget(\u001b[38;5;124m\"\u001b[39m\u001b[38;5;124mstatus\u001b[39m\u001b[38;5;124m\"\u001b[39m) \u001b[38;5;241m==\u001b[39m \u001b[38;5;241m429\u001b[39m:\n\u001b[1;32m---> 59\u001b[0m         \u001b[38;5;28;01mraise\u001b[39;00m (\n\u001b[0;32m     60\u001b[0m             \u001b[38;5;167;01mException\u001b[39;00m(\u001b[38;5;124m\"\u001b[39m\u001b[38;5;124mConversationLimitException: \u001b[39m\u001b[38;5;124m\"\u001b[39m \u001b[38;5;241m+\u001b[39m err_message)\n\u001b[0;32m     61\u001b[0m             \u001b[38;5;28;01mif\u001b[39;00m err_message \u001b[38;5;241m==\u001b[39m \u001b[38;5;124m\"\u001b[39m\u001b[38;5;124mERR_CONVERSATION_LIMIT\u001b[39m\u001b[38;5;124m\"\u001b[39m\n\u001b[0;32m     62\u001b[0m             \u001b[38;5;28;01melse\u001b[39;00m \u001b[38;5;167;01mException\u001b[39;00m(\u001b[38;5;124m\"\u001b[39m\u001b[38;5;124mRatelimitException: \u001b[39m\u001b[38;5;124m\"\u001b[39m \u001b[38;5;241m+\u001b[39m err_message)\n\u001b[0;32m     63\u001b[0m         )\n\u001b[0;32m     64\u001b[0m     \u001b[38;5;28;01mraise\u001b[39;00m \u001b[38;5;167;01mException\u001b[39;00m(\u001b[38;5;124m\"\u001b[39m\u001b[38;5;124mDuckDuckGoSearchException: \u001b[39m\u001b[38;5;124m\"\u001b[39m \u001b[38;5;241m+\u001b[39m err_message)\n\u001b[0;32m     65\u001b[0m \u001b[38;5;28;01melif\u001b[39;00m message \u001b[38;5;241m:=\u001b[39m x\u001b[38;5;241m.\u001b[39mget(\u001b[38;5;124m\"\u001b[39m\u001b[38;5;124mmessage\u001b[39m\u001b[38;5;124m\"\u001b[39m):\n",
      "\u001b[1;31mException\u001b[0m: RatelimitException: ERR_SERVICE_UNAVAILABLE"
     ]
    }
   ],
   "source": [
    "\n",
    "chat_session = ChatSession()\n",
    "question=[\"hi\",\"my name is faijan\",\"what is my name\"]\n",
    "\n",
    "for q in question:\n",
    "    print(f\"Question: {q}\")\n",
    "    print(f\"Answer: {chat_session.chat(q)}\")\n",
    "    print()\n"
   ]
  },
  {
   "cell_type": "code",
   "execution_count": 3,
   "metadata": {},
   "outputs": [],
   "source": [
    "from duckduckgo_search import DDGS\n",
    "\n"
   ]
  },
  {
   "cell_type": "code",
   "execution_count": 4,
   "metadata": {},
   "outputs": [],
   "source": [
    "chato=DDGS()"
   ]
  },
  {
   "cell_type": "code",
   "execution_count": 8,
   "metadata": {},
   "outputs": [
    {
     "data": {
      "text/plain": [
       "'Nice to meet you, Faijan! As a programmer, what languages or technologies do you work with?'"
      ]
     },
     "execution_count": 8,
     "metadata": {},
     "output_type": "execute_result"
    }
   ],
   "source": [
    "chato.chat(\"my name is faijan and i am a programmer\")"
   ]
  },
  {
   "cell_type": "code",
   "execution_count": 9,
   "metadata": {},
   "outputs": [
    {
     "data": {
      "text/plain": [
       "'Your name is Faijan.'"
      ]
     },
     "execution_count": 9,
     "metadata": {},
     "output_type": "execute_result"
    }
   ],
   "source": [
    "chato.chat(\"what is my name?\")"
   ]
  },
  {
   "cell_type": "markdown",
   "metadata": {},
   "source": [
    "## News"
   ]
  },
  {
   "cell_type": "code",
   "execution_count": 5,
   "metadata": {},
   "outputs": [
    {
     "data": {
      "text/plain": [
       "[{'date': '2024-08-20T12:36:00+00:00',\n",
       "  'title': 'Bitcoin price today: BTC is trading at $60,547.22',\n",
       "  'body': \"Bitcoin, or 1 BTC, traded at $60,547.22 as of 8 a.m. ET. The highest intraday price the crypto reached in the past year was $73,750.07 on March 14, 2024. The above chart pulls data as of 8 a.m. ET daily. It doesn't display intraday highs or lows.\",\n",
       "  'url': 'https://www.usatoday.com/money/blueprint/investing/cryptocurrency/bitcoin-price-today-08-20-2024/',\n",
       "  'image': 'https://www.usatoday.com/money/blueprint/images/uploads/2024/01/29123416/Bitcoin-scaled-e1706546105671.jpg',\n",
       "  'source': 'USA Today'},\n",
       " {'date': '2024-08-20T14:20:00+00:00',\n",
       "  'title': 'Bitcoin Price Forecast - Bitcoin Continues to See Sideways Action',\n",
       "  'body': 'The Bitcoin market continues to see a lot of sideways action, which of course makes a certain amount of sense, as the market is now waiting to see what the Wall Street based ETF will end up doing to the market overall.',\n",
       "  'url': 'https://www.fxempire.com/forecasts/article/bitcoin-price-forecast-bitcoin-continues-to-see-sideways-action-4-1455183',\n",
       "  'image': 'https://responsive.fxempire.com/v7/_fxempire_/2024/08/Bitcoin-down_up-2.jpg?func=cover&q=70&width=700',\n",
       "  'source': 'FXEmpire.com'},\n",
       " {'date': '2024-08-20T13:09:00+00:00',\n",
       "  'title': 'Ethereum price today: ETH is up 2.12% today, trading at $2,641.96',\n",
       "  'body': 'The price of ethereum, or 1 ETH, traded at $2,641.96, as of 8 a.m. ET. The highest intraday price that ethereum reached in the past year was $4,088.00 on March 12, 2024. The return comparisons are as of 8 a.m. ET.',\n",
       "  'url': 'https://www.usatoday.com/money/blueprint/investing/cryptocurrency/ethereum-price-today-08-20-2024/',\n",
       "  'image': 'https://www.usatoday.com/money/blueprint/images/uploads/2024/03/26101320/GettyImages-951165896-scaled-e1711462456367.jpg',\n",
       "  'source': 'USA Today'},\n",
       " {'date': '2024-08-20T07:38:00+00:00',\n",
       "  'title': 'Bitcoin (BTC) Price Breaks $61K: Analysts Project Surge to $100,000',\n",
       "  'body': \"Bitcoin's price surpassed $61,000 on August 20, 2024, amid increased ETF inflows and analyst predictions of future growth, while investors await signals from the Federal Reserve about potential interest rate cuts.\",\n",
       "  'url': 'https://blockonomi.com/bitcoin-btc-price-breaks-61k-analysts-project-surge-to-100000/',\n",
       "  'image': 'https://blockonomi.com/wp-content/uploads/2024/06/bitcoin.jpg',\n",
       "  'source': 'blockonomi'},\n",
       " {'date': '2024-08-20T10:05:07+00:00',\n",
       "  'title': 'Bitcoin seen following stocks as BTC price gains 2.5% to attack $61K',\n",
       "  'body': 'Bitcoin sought weekly highs on Aug. 20 as a push above $61,000 brought hopes of a BTC price comeback. Data from Cointelegraph Markets Pro and TradingView showed local highs of $61,424 on Bitstamp, with Bitcoin ( BTC ) up 2.4% on the day.',\n",
       "  'url': 'https://www.msn.com/en-us/money/markets/bitcoin-seen-following-stocks-as-btc-price-gains-25-to-attack-61k/ar-AA1p6shQ',\n",
       "  'image': 'https://images.cointelegraph.com/cdn-cgi/image/format=auto,onerror=redirect,quality=90,width=1200/https://s3.cointelegraph.com/uploads/2024-08/67230d8d-27d3-4a58-a86a-1ae69acc446c.jpg',\n",
       "  'source': 'CoinTelegraph on MSN.com'},\n",
       " {'date': '2024-08-19T12:25:00+00:00',\n",
       "  'title': \"'Golden Opportunity'—Bitcoin And Crypto Are Suddenly Braced For A 'Critical' Fed Price Earthquake\",\n",
       "  'body': 'Bitcoin and crypto traders are braced for Federal Reserve chair Jerome Powell to signal the Fed will start cutting U.S. interest rates in September—described as \"a golden opportunity\" to seize the',\n",
       "  'url': 'https://www.forbes.com/sites/digital-assets/2024/08/19/golden-opportunity-bitcoin-and-crypto-are-suddenly-braced-for-a-critical-fed-price-earthquake/',\n",
       "  'image': 'https://imageio.forbes.com/specials-images/imageserve/6453a7716dc5b442936db608/0x0.jpg?format=jpg&height=900&width=1600&fit=bounds',\n",
       "  'source': 'Forbes'}]"
      ]
     },
     "execution_count": 5,
     "metadata": {},
     "output_type": "execute_result"
    }
   ],
   "source": [
    "chato.news(\"what is bitcoin price todays?\",max_results=6)"
   ]
  },
  {
   "cell_type": "code",
   "execution_count": 6,
   "metadata": {},
   "outputs": [
    {
     "data": {
      "text/plain": [
       "[{'date': '2024-08-20T12:36:00+00:00',\n",
       "  'title': 'Bitcoin price today: BTC is trading at $60,547.22',\n",
       "  'body': \"Bitcoin, or 1 BTC, traded at $60,547.22 as of 8 a.m. ET. The highest intraday price the crypto reached in the past year was $73,750.07 on March 14, 2024. The above chart pulls data as of 8 a.m. ET daily. It doesn't display intraday highs or lows.\",\n",
       "  'url': 'https://www.usatoday.com/money/blueprint/investing/cryptocurrency/bitcoin-price-today-08-20-2024/',\n",
       "  'image': 'https://www.usatoday.com/money/blueprint/images/uploads/2024/01/29123416/Bitcoin-scaled-e1706546105671.jpg',\n",
       "  'source': 'USA Today'},\n",
       " {'date': '2024-08-20T14:20:00+00:00',\n",
       "  'title': 'Bitcoin Price Forecast - Bitcoin Continues to See Sideways Action',\n",
       "  'body': 'The Bitcoin market continues to see a lot of sideways action, which of course makes a certain amount of sense, as the market is now waiting to see what the Wall Street based ETF will end up doing to the market overall.',\n",
       "  'url': 'https://www.fxempire.com/forecasts/article/bitcoin-price-forecast-bitcoin-continues-to-see-sideways-action-4-1455183',\n",
       "  'image': 'https://responsive.fxempire.com/v7/_fxempire_/2024/08/Bitcoin-down_up-2.jpg?func=cover&q=70&width=700',\n",
       "  'source': 'FXEmpire.com'},\n",
       " {'date': '2024-08-20T13:09:00+00:00',\n",
       "  'title': 'Ethereum price today: ETH is up 2.12% today, trading at $2,641.96',\n",
       "  'body': 'The price of ethereum, or 1 ETH, traded at $2,641.96, as of 8 a.m. ET. The highest intraday price that ethereum reached in the past year was $4,088.00 on March 12, 2024. The return comparisons are as of 8 a.m. ET.',\n",
       "  'url': 'https://www.usatoday.com/money/blueprint/investing/cryptocurrency/ethereum-price-today-08-20-2024/',\n",
       "  'image': 'https://www.usatoday.com/money/blueprint/images/uploads/2024/03/26101320/GettyImages-951165896-scaled-e1711462456367.jpg',\n",
       "  'source': 'USA Today'},\n",
       " {'date': '2024-08-20T07:38:00+00:00',\n",
       "  'title': 'Bitcoin (BTC) Price Breaks $61K: Analysts Project Surge to $100,000',\n",
       "  'body': \"Bitcoin's price surpassed $61,000 on August 20, 2024, amid increased ETF inflows and analyst predictions of future growth, while investors await signals from the Federal Reserve about potential interest rate cuts.\",\n",
       "  'url': 'https://blockonomi.com/bitcoin-btc-price-breaks-61k-analysts-project-surge-to-100000/',\n",
       "  'image': 'https://blockonomi.com/wp-content/uploads/2024/06/bitcoin.jpg',\n",
       "  'source': 'blockonomi'},\n",
       " {'date': '2024-08-20T10:05:07+00:00',\n",
       "  'title': 'Bitcoin seen following stocks as BTC price gains 2.5% to attack $61K',\n",
       "  'body': 'Bitcoin sought weekly highs on Aug. 20 as a push above $61,000 brought hopes of a BTC price comeback. Data from Cointelegraph Markets Pro and TradingView showed local highs of $61,424 on Bitstamp, with Bitcoin ( BTC ) up 2.4% on the day.',\n",
       "  'url': 'https://www.msn.com/en-us/money/markets/bitcoin-seen-following-stocks-as-btc-price-gains-25-to-attack-61k/ar-AA1p6shQ',\n",
       "  'image': 'https://images.cointelegraph.com/cdn-cgi/image/format=auto,onerror=redirect,quality=90,width=1200/https://s3.cointelegraph.com/uploads/2024-08/67230d8d-27d3-4a58-a86a-1ae69acc446c.jpg',\n",
       "  'source': 'CoinTelegraph on MSN.com'},\n",
       " {'date': '2024-08-19T12:25:00+00:00',\n",
       "  'title': \"'Golden Opportunity'—Bitcoin And Crypto Are Suddenly Braced For A 'Critical' Fed Price Earthquake\",\n",
       "  'body': 'Bitcoin and crypto traders are braced for Federal Reserve chair Jerome Powell to signal the Fed will start cutting U.S. interest rates in September—described as \"a golden opportunity\" to seize the',\n",
       "  'url': 'https://www.forbes.com/sites/digital-assets/2024/08/19/golden-opportunity-bitcoin-and-crypto-are-suddenly-braced-for-a-critical-fed-price-earthquake/',\n",
       "  'image': 'https://imageio.forbes.com/specials-images/imageserve/6453a7716dc5b442936db608/0x0.jpg?format=jpg&height=900&width=1600&fit=bounds',\n",
       "  'source': 'Forbes'},\n",
       " {'date': '2024-08-20T00:59:00+00:00',\n",
       "  'title': 'Bitcoin Price Prediction as BTC Struggles to Break Above $60,000 - What Lies Ahead?',\n",
       "  'body': 'Bitcoin faces a crucial test as it struggles to breach its $60,000 minor resistance, which has proven challenging over the past few days.',\n",
       "  'url': 'https://techreport.com/crypto-news/bitcoin-price-prediction-as-btc-struggles-to-break-above-60000-what-lies-ahead/',\n",
       "  'image': 'https://techreport.com/wp-content/uploads/2024/08/0_3-36.png',\n",
       "  'source': 'The Tech Report'},\n",
       " {'date': '2024-08-20T11:38:00+00:00',\n",
       "  'title': 'Bitcoin Price Prediction: As Grayscale Says BTC Will Skyrocket Regardless Of US Election Result, This New ICO Smashes Past $500K In A Week',\n",
       "  'body': 'The Bitcoin price has been on a downtrend since it hit its all-time high of $73,737 in March, trading within a falling channel pattern, data from GeckoTerminal shows. With the price of Bitcoin having retested the $70,000 resistance, the BTC bulls are aiming to propel the price to the resistance and soar higher.',\n",
       "  'url': 'https://insidebitcoins.com/news/bitcoin-price-prediction-as-grayscale-says-btc-will-skyrocket-regardless-of-us-election-result-this-new-ico-smashes-past-500k-in-a-week',\n",
       "  'image': '',\n",
       "  'source': 'Inside Bitcoins'},\n",
       " {'date': '2024-08-20T13:24:00+00:00',\n",
       "  'title': \"Bitcoin Price To Mirror Post-Halving Rally, Here's Why\",\n",
       "  'body': 'Bitcoin (BTC) price is inching closer to reclaiming its post-halving reaccumulation range, setting the market abuzz with anticipation. Amid critical',\n",
       "  'url': 'https://coingape.com/bitcoin-price-to-mirror-post-halving-rally-heres-why/',\n",
       "  'image': '',\n",
       "  'source': 'Coingape'},\n",
       " {'date': '2024-08-16T14:10:00+00:00',\n",
       "  'title': \"Bitcoin is back in 'accumulation' — What does it mean for BTC price?\",\n",
       "  'body': 'Bitcoin could stage a recovery above $66,000 by September, but it faces significant resistance around $61,700.',\n",
       "  'url': 'https://cointelegraph.com/news/bitcoin-back-acccumulation-what-mean-btc-price',\n",
       "  'image': 'https://images.cointelegraph.com/cdn-cgi/image/format=auto,onerror=redirect,quality=90,width=1200/https://s3.cointelegraph.com/uploads/2024-08/98acb0b4-a6db-4f5c-b36e-6af17d5f8354.jpg',\n",
       "  'source': 'CoinTelegraph'},\n",
       " {'date': '2024-08-02T08:32:00+00:00',\n",
       "  'title': \"Bitcoin Price Predictions: Analysts Eye $95K to $700k, What's Next for BTC?\",\n",
       "  'body': 'Bitcoin traders predict potential prices between $95,000 and $700,000, while improving mining conditions and long-term adoption projections fuel speculation about BTCs future.',\n",
       "  'url': 'https://blockonomi.com/bitcoin-price-predictions-analysts-eye-95k-to-700k-whats-next-for-btc/',\n",
       "  'image': 'https://blockonomi.com/wp-content/uploads/2024/05/bitcoin-2.jpg',\n",
       "  'source': 'blockonomi'},\n",
       " {'date': '2024-08-16T16:01:00+00:00',\n",
       "  'title': 'Bitcoin ETF Options Are Growing Market Share, Impacting Bitcoin Price',\n",
       "  'body': 'ONG shares many similarities with bitcoin, including its commodity-like nature, price volatility and the influence of global market dynamics. In the 1970s and 1980s, oil derivatives trading was miniscule. Over the past 50 years, however, it has grown into ...',\n",
       "  'url': 'https://www.forbes.com/sites/alexanderblume/2024/08/16/bitcoin-etf-options-are-growing-market-share-impacting-bitcoin-price/',\n",
       "  'image': 'https://imageio.forbes.com/specials-images/imageserve/66bf4840703c1e59bdbfce56/0x0.jpg?format=jpg&height=900&width=1600&fit=bounds',\n",
       "  'source': 'Forbes'},\n",
       " {'date': '2024-08-19T11:44:00+00:00',\n",
       "  'title': \"Here's Why Bitcoin (BTC) Is Likely Mirroring 2019 Price Action, According to Analyst Benjamin Cowen\",\n",
       "  'body': \"A widely followed crypto analyst says that Bitcoin's (BTC) current correction is reminiscent of its price action about five years ago.\",\n",
       "  'url': 'https://dailyhodl.com/2024/08/19/heres-why-bitcoin-btc-is-likely-mirroring-2019-price-action-according-to-analyst-benjamin-cowen/',\n",
       "  'image': 'https://dailyhodl.com/wp-content/uploads/2024/05/Bitcoin-Close-to-Bottom.jpg',\n",
       "  'source': 'The Daily Hodl'},\n",
       " {'date': '2024-08-17T12:17:00+00:00',\n",
       "  'title': 'Is Bitcoin a Millionaire Maker?',\n",
       "  'body': 'Founded in 1993, The Motley Fool is a financial services company dedicated to making the world smarter, happier, and richer. The Motley Fool reaches millions of people every month through our premium investing solutions, free guidance and market analysis on Fool.com, top-rated podcasts, and non-profit The Motley Fool Foundation.',\n",
       "  'url': 'https://www.msn.com/en-us/money/markets/is-bitcoin-a-millionaire-maker/ar-AA1oXDfd',\n",
       "  'image': '',\n",
       "  'source': 'The Motley Fool on MSN.com'},\n",
       " {'date': '2024-08-14T02:57:00+00:00',\n",
       "  'title': 'Bitcoin on exchanges falls to a new low and may signal a major price spike',\n",
       "  'body': 'A record low amount of bitcoin on exchanges indicates a bullish trend, potentially leading to new all-time highs.',\n",
       "  'url': 'https://www.msn.com/en-us/money/markets/bitcoin-on-exchanges-falls-to-a-new-low-and-may-signal-a-major-price-spike/ar-AA1oKB9c',\n",
       "  'image': 'https://www.thestreet.com/.image/t_share/MjA4NTQ4MjgxMjc2NDQxOTA3/bitcoin-trading-on-gadgets-modern-virtual-currenc-2023-11-27-05-30-13-utc-1.jpg',\n",
       "  'source': 'TheStreet.com on MSN.com'},\n",
       " {'date': '2024-08-18T20:40:00+00:00',\n",
       "  'title': \"Bitcoin Fees Hit Yearly Low for Third Week - What Will Drive BTC's Short-Term Price Action\",\n",
       "  'body': \"Bitcoin fees have fallen to a yearly low for the third consecutive week. Explore the factors that could influence BTC's short-term price movements and what trends to watch.\",\n",
       "  'url': 'https://thecurrencyanalytics.com/bitcoin/bitcoin-fees-hit-yearly-low-for-third-week-what-will-drive-btcs-short-term-price-action-131108',\n",
       "  'image': 'https://thecurrencyanalytics.com/wp-content/uploads/2024/08/Bitcoin-Fees-jpg.webp',\n",
       "  'source': 'thecurrencyanalytics'},\n",
       " {'date': '2024-02-28T14:55:00+00:00',\n",
       "  'title': 'What is Bitcoin? Key cryptocurrency terms and what they mean',\n",
       "  'body': 'After Bitcoin\\'s price banked a new all time high in March, the sticky subject of cryptocurrencies is back in the spotlight. And while crypto market-moving events such as Bitcoin \"halving\" or the ...',\n",
       "  'url': 'https://www.bbc.com/news/world-us-canada-63963079',\n",
       "  'image': '',\n",
       "  'source': 'BBC'},\n",
       " {'date': '2024-08-09T09:48:00+00:00',\n",
       "  'title': 'What is the Bitcoin power law?',\n",
       "  'body': \"Debate has intensified over the Bitcoin power law as experts dispute its reliability and predictive accuracy in forecasting Bitcoin's price.\",\n",
       "  'url': 'https://cryptobriefing.com/bitcoin-power-law-theory/',\n",
       "  'image': 'https://static.cryptobriefing.com/wp-content/uploads/2024/08/07081129/bitcoin-drop-800x420.png',\n",
       "  'source': 'Crypto Briefing'},\n",
       " {'date': '2024-08-19T06:19:00+00:00',\n",
       "  'title': '75% of Bitcoin in HODL Mode for 6 Months: Is a Massive Price Spike on the Horizon?',\n",
       "  'body': 'A whopping 75% of all Bitcoin has remained stationary for six months, fueling speculation that hodlers are gearing up for a potential price explosion in the near future. Bitcoin Supply Frozen as',\n",
       "  'url': 'https://www.econotimes.com/75-of-Bitcoin-in-HODL-Mode-for-6-Months-Is-a-Massive-Price-Spike-on-the-Horizon-1684420',\n",
       "  'image': '',\n",
       "  'source': 'EconoTimes'},\n",
       " {'date': '2024-07-19T17:36:00+00:00',\n",
       "  'title': 'What is a bitcoin IRA?',\n",
       "  'body': \"Not a day goes by without bitcoin being in the news. And given the cryptocurrency's phenomenal price rise, from zero to approximately $32,000 in a little over a decade, you — like many other ...\",\n",
       "  'url': 'https://www.businessinsider.com/personal-finance/investing/what-is-a-bitcoin-ira',\n",
       "  'image': '',\n",
       "  'source': 'Business Insider'},\n",
       " {'date': '2024-08-19T20:16:40+00:00',\n",
       "  'title': \"Bitcoin's price actions and the U.S. election have NO connection whatsoever\",\n",
       "  'body': \"When you hear folks talking about Bitcoin and the U.S. election, they often act like the two are connected at the hip. You've got people claiming that Donald Trump's chances of winning are somehow linked to Bitcoin's price,\",\n",
       "  'url': 'https://www.msn.com/en-us/money/markets/bitcoin-s-price-actions-and-the-us-election-have-no-connection-whatsoever/ar-AA1p4zNO',\n",
       "  'image': 'https://img-s-msn-com.akamaized.net/tenant/amp/entityid/AA1p4zNg.img?w=1440&h=880&m=4&q=100',\n",
       "  'source': 'Cryptopolitan on MSN.com'},\n",
       " {'date': '2024-07-28T20:17:00+00:00',\n",
       "  'title': 'Bitcoin Price Forecast: What Next for BTC as Trump Triggers $69k Rally',\n",
       "  'body': 'Bitcoin price action within the duration of the conference shows that there was increased investor interest in BTC/USD markets as a result of the media buzz. The conference held between July 25 ...',\n",
       "  'url': 'https://www.fxempire.com/forecasts/article/bitcoin-price-forecast-trump-factor-sends-btc-1449164',\n",
       "  'image': '',\n",
       "  'source': 'FXEmpire.com'},\n",
       " {'date': '2024-03-20T11:59:00+00:00',\n",
       "  'title': 'What Is Bitcoin Halving and Why Is It Important?',\n",
       "  'body': 'Historically, bitcoin halvings have been associated with significant price increases in the cryptocurrency. The theory behind this is simple: As the supply of new bitcoins entering the market ...',\n",
       "  'url': 'https://www.kiplinger.com/investing/cryptocurrency/what-is-bitcoin-halving-and-why-is-it-important',\n",
       "  'image': '',\n",
       "  'source': 'Kiplinger'},\n",
       " {'date': '2024-08-11T03:16:00+00:00',\n",
       "  'title': 'Top Bitcoin Trader Shows when BTC is Likely to Reach $100,000 Based on Halving Cycles, What This Means for Altcoins Like RCOF',\n",
       "  'body': \"A legendary Bitcoin trader has made a bold prediction regarding Bitcoin's price future following its halving in April. According to this forecast, RCO Finance (RCOF) will experience a significant rise\",\n",
       "  'url': 'https://www.livebitcoinnews.com/top-bitcoin-trader-shows-when-btc-is-likely-to-reach-100000-based-on-halving-cycles-what-this-means-for-altcoins-like-rcof/',\n",
       "  'image': 'https://www.livebitcoinnews.com/wp-content/uploads/2024/08/one.png',\n",
       "  'source': 'Ripple'},\n",
       " {'date': '2024-08-18T12:15:00+00:00',\n",
       "  'title': 'Bitcoin Price Fluctuates Wildly: Which Direction Is It Heading?',\n",
       "  'body': \"BTC doesn't seem to be taking a clear direction at the moment. After a sharp drop yesterday, which saw the price drop over $3,000 in a short period of time to a low of $56,300, the Bitcoin (BTC) price recovered this morning to around $58,600. However, as of this writing, the price has fallen back to $57,600.\",\n",
       "  'url': 'https://newslite.tv/bitcoin-price-fluctuates-wildly-which-direction-is-it-heading/',\n",
       "  'image': 'https://newslite.tv/wp-content/uploads/2024/08/AdobeStock_899805114-scaled.jpeg',\n",
       "  'source': 'newslite'},\n",
       " {'date': '2024-02-19T13:54:00+00:00',\n",
       "  'title': 'Why is bitcoin going up? Analyst explains as price breaks $52,000',\n",
       "  'body': 'An influential analyst projects the price impact of daily demand for spot bitcoin ETFs paired with limited issuance of new supply. The bitcoin price has enjoyed a 26% surge in the last month ...',\n",
       "  'url': 'https://www.thestreet.com/crypto/markets/why-is-bitcoin-going-up-price-breaks-52000',\n",
       "  'image': '',\n",
       "  'source': 'TheStreet.com'},\n",
       " {'date': '2024-08-20T14:03:00+00:00',\n",
       "  'title': 'Bitcoin Price Hits $61,000. Crypto Rallies On Fed Rate-Cut Hopes.',\n",
       "  'body': 'A bullish sentiment on cryptocurrencies emerged early Tuesday amid growing bets that the Federal Reserve will begin rate cuts sooner rather than later.',\n",
       "  'url': 'https://www.msn.com/en-us/money/markets/bitcoin-price-hits-61000-crypto-rallies-on-fed-rate-cut-hopes/ar-AA1p793O',\n",
       "  'image': 'https://img-s-msn-com.akamaized.net/tenant/amp/entityid/BB1orlCp.img?w=1280&h=852&m=4&q=67',\n",
       "  'source': \"Barron's on MSN.com\"},\n",
       " {'date': '2024-08-20T08:34:00+00:00',\n",
       "  'title': \"The future of Bitcoin's price performance\",\n",
       "  'body': \"Bitcoin's (BTC) price hovers around a key resistance level of $60,000 as of Tuesday's trading session. Recent data shows that Bitcoin ETFs recorded net inflows of approximately $13 million\",\n",
       "  'url': 'https://londonlovesbusiness.com/the-future-of-bitcoins-price-performance/',\n",
       "  'image': 'https://mloyoq1wv9pf.i.optimole.com/w:auto/h:auto/q:mauto/f:best/ig:avif/https://londonlovesbusiness.com/wp-content/uploads/2024/07/Bitcoin-mining.jpg',\n",
       "  'source': 'londonlovesbusiness.com'},\n",
       " {'date': '2021-03-20T00:40:00+00:00',\n",
       "  'title': \"What The Stock-To-Flow Model Says About Bitcoin's Future Price\",\n",
       "  'body': 'The stock-to-flow model, which accounts for the availability and production of an asset, can help predict the future bitcoin price. They say that the simplest way to beat the system is through emotionless investing. The irony, however, is that there is no ...',\n",
       "  'url': 'https://bitcoinmagazine.com/markets/what-the-stock-to-flow-model-says-about-bitcoins-future-price',\n",
       "  'image': '',\n",
       "  'source': 'Bitcoin Magazine'},\n",
       " {'date': '2023-12-16T17:26:00+00:00',\n",
       "  'title': 'What is Bitcoin?',\n",
       "  'body': '\"There may be good reasons for buying bitcoin,\" an article in The Economist said recently. \"But the dominant reason at the moment is that it is rising in price.\" At the height of tulip mania ...',\n",
       "  'url': 'https://www.bbc.com/news/business-42150512',\n",
       "  'image': '',\n",
       "  'source': 'BBC'}]"
      ]
     },
     "execution_count": 6,
     "metadata": {},
     "output_type": "execute_result"
    }
   ],
   "source": [
    "chato.news(\"what is bitcoin price todays?\")"
   ]
  },
  {
   "cell_type": "markdown",
   "metadata": {},
   "source": [
    "## Images Search"
   ]
  },
  {
   "cell_type": "code",
   "execution_count": 7,
   "metadata": {},
   "outputs": [
    {
     "data": {
      "text/plain": [
       "[{'title': 'Ind vs SA Highlights, T20 World Cup 2024 Final: We Are The Champions ...',\n",
       "  'image': 'https://c.ndtvimg.com/2024-06/e3d6su2o_india-afp_625x300_30_June_24.jpg?im=FaceCrop,algorithm=dnn,width=1200,height=675',\n",
       "  'thumbnail': 'https://tse2.mm.bing.net/th?id=OIP.8gRCZCAqdyu5aoRSkgdeoQHaEK&pid=Api',\n",
       "  'url': 'https://sports.ndtv.com/t20-world-cup-2024/ind-vs-sa-final-live-cricket-score-t20-world-cup-2024-india-vs-south-africa-live-score-and-commentary-29-june-5994843',\n",
       "  'height': 675,\n",
       "  'width': 1200,\n",
       "  'source': 'Bing'},\n",
       " {'title': 'India wins the ICC T20 Cricket World Cup 2024. : r/cricketworldcup',\n",
       "  'image': 'https://preview.redd.it/india-wins-the-icc-t20-cricket-world-cup-2024-v0-gpj4h5h2wj9d1.png?auto=webp&s=06ed7670412d502b6af9f62ae78954e3527aa9e4',\n",
       "  'thumbnail': 'https://tse2.mm.bing.net/th?id=OIP.A7c3uVU3KeMmve9fL0HT1AAAAA&pid=Api',\n",
       "  'url': 'https://www.reddit.com/r/cricketworldcup/comments/1drh39b/india_wins_the_icc_t20_cricket_world_cup_2024/',\n",
       "  'height': 592,\n",
       "  'width': 474,\n",
       "  'source': 'Bing'},\n",
       " {'title': 'ICC T20 World Cup 2024 - All Teams Squad | T20 World Cup 2024 All Teams ...',\n",
       "  'image': 'https://i.ytimg.com/vi/annySsG3tTE/maxresdefault.jpg',\n",
       "  'thumbnail': 'https://tse1.mm.bing.net/th?id=OIP.ikEC1kLWscNYQlTxSeX7iAAAAA&pid=Api',\n",
       "  'url': 'https://www.youtube.com/watch?v=annySsG3tTE',\n",
       "  'height': 266,\n",
       "  'width': 474,\n",
       "  'source': 'Bing'},\n",
       " {'title': 'ICC T20 World Cup 2024 Format Revealed, World Cup 2024 to be held in ...',\n",
       "  'image': 'https://www.icccricketschedule.com/wp-content/uploads/2022/11/T20-World-Cup-2024-1.jpg',\n",
       "  'thumbnail': 'https://tse3.mm.bing.net/th?id=OIP.n-QlNwQETYUqpVjjEQEH4AAAAA&pid=Api',\n",
       "  'url': 'https://www.icccricketschedule.com/icc-t20-world-cup-2024-format-revealed-world-cup-2024-to-be-held-in-different-format/',\n",
       "  'height': 355,\n",
       "  'width': 474,\n",
       "  'source': 'Bing'},\n",
       " {'title': \"The True Significance Of Team India's T20 World Cup 2024 Triumph - CLICKNOW\",\n",
       "  'image': 'http://www.clicknow.in/wp-content/uploads/2024/07/the-true-significance-of-team-indias-t20-world-cup-2024-triumph.jpg',\n",
       "  'thumbnail': 'https://tse1.mm.bing.net/th?id=OIP.zY-Ui41nP0JmFdBP9_rJxQHaEK&pid=Api',\n",
       "  'url': 'http://www.clicknow.in/sports/the-true-significance-of-team-indias-t20-world-cup-2024-triumph/',\n",
       "  'height': 675,\n",
       "  'width': 1200,\n",
       "  'source': 'Bing'},\n",
       " {'title': '2024 T20 World Cup - Nari Tamiko',\n",
       "  'image': 'https://usacricket.org/wp-content/uploads/2021/11/Event-Hosts-819x1024.jpg',\n",
       "  'thumbnail': 'https://tse1.mm.bing.net/th?id=OIP.iA4w7vjE1F7ljk6i7GbNbgAAAA&pid=Api',\n",
       "  'url': 'https://gabbieqcollette.pages.dev/gjgcki-2024-t20-world-cup-qkctmm-photos/',\n",
       "  'height': 592,\n",
       "  'width': 474,\n",
       "  'source': 'Bing'},\n",
       " {'title': 'Dates for ICC T20 World Cup 2024 out, IPL to shift to new window ...',\n",
       "  'image': 'https://crictoday.com/wp-content/uploads/2022/10/ICC-T20-World-Cup-Trophy.jpeg',\n",
       "  'thumbnail': 'https://tse1.mm.bing.net/th?id=OIP.LIOPDwsTLfdy_I14fU_8OgHaE8&pid=Api',\n",
       "  'url': 'https://crictoday.com/cricket/daily-cricket-news/dates-for-icc-t20-world-cup-2024-out-ipl-to-shift-to-new-window/',\n",
       "  'height': 800,\n",
       "  'width': 1200,\n",
       "  'source': 'Bing'}]"
      ]
     },
     "execution_count": 7,
     "metadata": {},
     "output_type": "execute_result"
    }
   ],
   "source": [
    "chato.images(\"cricket t20 world cup 2024\",max_results=7)"
   ]
  },
  {
   "cell_type": "markdown",
   "metadata": {},
   "source": [
    "## Vedio Search"
   ]
  },
  {
   "cell_type": "code",
   "execution_count": 8,
   "metadata": {},
   "outputs": [
    {
     "data": {
      "text/plain": [
       "[{'content': 'https://www.youtube.com/watch?v=uJs693eNfuQ',\n",
       "  'description': \"Re-live ALL the incredible #Paris2024 action: https://oly.ch/ParisReplays Watch the full replay of the Men's Basketball Gold Medal Match between the United States and France from the #Paris2024 Olympic Games. 🥇 Team USA 🇺🇸 🥈 Team France 🇫🇷 🥉 Team Serbia 🇷🇸 _____________________________________________________ 🇨🇳 ...\",\n",
       "  'duration': '2:14:47',\n",
       "  'embed_html': '<iframe width=\"1280\" height=\"720\" src=\"https://www.youtube.com/embed/uJs693eNfuQ?autoplay=1\" frameborder=\"0\" allowfullscreen></iframe>',\n",
       "  'embed_url': 'https://www.youtube.com/embed/uJs693eNfuQ?autoplay=1',\n",
       "  'image_token': 'dac247e1169781afb23028136084344b5256cddbd4f076ceea0449138a9b9dca',\n",
       "  'images': {'large': 'https://tse2.mm.bing.net/th?id=OVF.vUEwe0q18e5mwrUsed5FKw&pid=Api',\n",
       "   'medium': 'https://tse2.mm.bing.net/th?id=OVF.vUEwe0q18e5mwrUsed5FKw&pid=Api',\n",
       "   'motion': '',\n",
       "   'small': 'https://tse2.mm.bing.net/th?id=OVF.vUEwe0q18e5mwrUsed5FKw&pid=Api'},\n",
       "  'provider': 'Bing',\n",
       "  'published': '2024-08-19T11:00:55.0000000',\n",
       "  'publisher': 'YouTube',\n",
       "  'statistics': {'viewCount': 962863},\n",
       "  'title': \"Men's Basketball Gold Medal Match 🏀 | Full Replay | Paris Replays\",\n",
       "  'uploader': 'Olympics'},\n",
       " {'content': 'https://www.youtube.com/watch?v=DR5iNcGg2Sg',\n",
       "  'description': \"📺 Re-live ALL the incredible #Paris2024 action: ️ https://oly.ch/ParisReplays Watch the full replay of the Women's Basketball Gold Medal Match from the #Paris2024 Olympic Games. 🥇 Team USA 🥈 Team France _____________________________________________________ 🇨🇳 #Beijing2022 replays: https://oly.ch/B22Replays 🇯🇵 #Tokyo2020 ...\",\n",
       "  'duration': '2:22:35',\n",
       "  'embed_html': '<iframe width=\"1280\" height=\"720\" src=\"https://www.youtube.com/embed/DR5iNcGg2Sg?autoplay=1\" frameborder=\"0\" allowfullscreen></iframe>',\n",
       "  'embed_url': 'https://www.youtube.com/embed/DR5iNcGg2Sg?autoplay=1',\n",
       "  'image_token': 'dc4fae505a6a392589fab28af07f73bbdf15b27fe14299422af1eb5ceb037976',\n",
       "  'images': {'large': 'https://tse3.mm.bing.net/th?id=OVF.t2GN3puye5nx3i%2fmZzf80g&pid=Api',\n",
       "   'medium': 'https://tse3.mm.bing.net/th?id=OVF.t2GN3puye5nx3i%2fmZzf80g&pid=Api',\n",
       "   'motion': '',\n",
       "   'small': 'https://tse3.mm.bing.net/th?id=OVF.t2GN3puye5nx3i%2fmZzf80g&pid=Api'},\n",
       "  'provider': 'Bing',\n",
       "  'published': '2024-08-19T04:00:14.0000000',\n",
       "  'publisher': 'YouTube',\n",
       "  'statistics': {'viewCount': 72103},\n",
       "  'title': \"Women's Basketball Gold Medal Match 🏀 | Full Replay | Paris Replays\",\n",
       "  'uploader': 'Olympics'},\n",
       " {'content': 'https://www.youtube.com/watch?v=8KbnSsLabzY',\n",
       "  'description': \"Steve's Kerr' speech at hte 2024 DNC came just over a week after winning an Olympic gold medal with Team USA basketball in Paris.\",\n",
       "  'duration': '6:56',\n",
       "  'embed_html': '<iframe width=\"1280\" height=\"720\" src=\"https://www.youtube.com/embed/8KbnSsLabzY?autoplay=1\" frameborder=\"0\" allowfullscreen></iframe>',\n",
       "  'embed_url': 'https://www.youtube.com/embed/8KbnSsLabzY?autoplay=1',\n",
       "  'image_token': 'acbbae4c4ca1be4ecd8b78bf038b5c43193522944a81f3659044346aa03a5842',\n",
       "  'images': {'large': 'https://tse1.mm.bing.net/th?id=OVF.Mo4DVhyYwQhW8S16gP8iMw&pid=Api',\n",
       "   'medium': 'https://tse1.mm.bing.net/th?id=OVF.Mo4DVhyYwQhW8S16gP8iMw&pid=Api',\n",
       "   'motion': '',\n",
       "   'small': 'https://tse1.mm.bing.net/th?id=OVF.Mo4DVhyYwQhW8S16gP8iMw&pid=Api'},\n",
       "  'provider': 'Bing',\n",
       "  'published': '2024-08-20T01:32:53.0000000',\n",
       "  'publisher': 'YouTube',\n",
       "  'statistics': {'viewCount': 10503},\n",
       "  'title': 'Steve Kerr speech at 2024 DNC on Olympic basketball gold, leadership needed to be president',\n",
       "  'uploader': 'Milwaukee Journal Sentinel'},\n",
       " {'content': 'https://www.youtube.com/watch?v=KFUFBEEg-OY',\n",
       "  'description': \"Rennae Stubbs and Sam Querrey discuss Novak Djokovic's gold medal victory over Carlos Alcaraz, breaking down the win's impact on Djokovic's legacy and more. #NBCSports #TheFrenchConnection » Subscribe to NBC Sports: https://www.youtube.com/nbcsports?sub_confirmation=1 » Watch Live Sports on Peacock: https://peacocktv.smart.link/v82e9dl56 NBC ...\",\n",
       "  'duration': '9:51',\n",
       "  'embed_html': '<iframe width=\"1280\" height=\"720\" src=\"https://www.youtube.com/embed/KFUFBEEg-OY?autoplay=1\" frameborder=\"0\" allowfullscreen></iframe>',\n",
       "  'embed_url': 'https://www.youtube.com/embed/KFUFBEEg-OY?autoplay=1',\n",
       "  'image_token': '8b0088a99dea07f003818de7c54c9bdf923b43582b7c95d6c6724044fed37346',\n",
       "  'images': {'large': 'https://tse3.mm.bing.net/th?id=OVF.cUGhrt1rlOCm2MnFfRTBNA&pid=Api',\n",
       "   'medium': 'https://tse3.mm.bing.net/th?id=OVF.cUGhrt1rlOCm2MnFfRTBNA&pid=Api',\n",
       "   'motion': '',\n",
       "   'small': 'https://tse3.mm.bing.net/th?id=OVF.cUGhrt1rlOCm2MnFfRTBNA&pid=Api'},\n",
       "  'provider': 'Bing',\n",
       "  'published': '2024-08-15T19:05:51.0000000',\n",
       "  'publisher': 'YouTube',\n",
       "  'statistics': {'viewCount': 13487},\n",
       "  'title': \"Analyzing Novak Djokovic's 'incredible effort' in Olympics win | The French Connection | NBC Sports\",\n",
       "  'uploader': 'NBC Sports'},\n",
       " {'content': 'https://www.youtube.com/watch?v=292TtndQdj8',\n",
       "  'description': \"Olympic History: China Ties U.S. for Most Gold Medals in Paris 2024 / Paris Olympics 2024 #olympic Experience the intense competition between China and the U.S. as they tie for the most gold medals at the Paris 2024 Olympics. This historic showdown has captured the world's attention, showcasing the incredible talents and determination of ...\",\n",
       "  'duration': '1:00',\n",
       "  'embed_html': '<iframe width=\"1280\" height=\"720\" src=\"https://www.youtube.com/embed/292TtndQdj8?autoplay=1\" frameborder=\"0\" allowfullscreen></iframe>',\n",
       "  'embed_url': 'https://www.youtube.com/embed/292TtndQdj8?autoplay=1',\n",
       "  'image_token': '89aac96d31e311c2e9cede7c2cba76e1ec919e28b3455efe012af5b40d8e18bc',\n",
       "  'images': {'large': 'https://tse1.mm.bing.net/th?id=OVF.FMe8ACb0R4JKDF33gLZY%2fg&pid=Api',\n",
       "   'medium': 'https://tse1.mm.bing.net/th?id=OVF.FMe8ACb0R4JKDF33gLZY%2fg&pid=Api',\n",
       "   'motion': '',\n",
       "   'small': 'https://tse1.mm.bing.net/th?id=OVF.FMe8ACb0R4JKDF33gLZY%2fg&pid=Api'},\n",
       "  'provider': 'Bing',\n",
       "  'published': '2024-08-20T11:21:47.0000000',\n",
       "  'publisher': 'YouTube',\n",
       "  'statistics': {'viewCount': 1},\n",
       "  'title': 'Olympic History: China Ties U.S. for Most Gold Medals in Paris 2024 / Paris Olympics 2024 #olympic',\n",
       "  'uploader': 'Sports Hubs'},\n",
       " {'content': 'https://www.youtube.com/watch?v=cs8EtiPw9EU',\n",
       "  'description': \"Thirteen: that's Africa's GOLD medal tally at the end of the 2024 Paris Olympic Games. Eight of those came from athletics, and Kenya, which came top of the table for Golds, took four. Second placed is Algeria with two and, then Tunisia, Egypt, Ethiopia, Uganda, Botswana and South Africa all had one gold medal each. Algerian boxer Imane Khelif ...\",\n",
       "  'duration': '7:44',\n",
       "  'embed_html': '<iframe width=\"1280\" height=\"720\" src=\"https://www.youtube.com/embed/cs8EtiPw9EU?autoplay=1\" frameborder=\"0\" allowfullscreen></iframe>',\n",
       "  'embed_url': 'https://www.youtube.com/embed/cs8EtiPw9EU?autoplay=1',\n",
       "  'image_token': '2371887747b7b35bf700beeb5b3cfc1ba31a6f98592223c0cd8c7f27dd8df5f6',\n",
       "  'images': {'large': 'https://tse1.mm.bing.net/th?id=OVF.ORx%2bYT6x%2fzglkPa47629%2bQ&pid=Api',\n",
       "   'medium': 'https://tse1.mm.bing.net/th?id=OVF.ORx%2bYT6x%2fzglkPa47629%2bQ&pid=Api',\n",
       "   'motion': '',\n",
       "   'small': 'https://tse1.mm.bing.net/th?id=OVF.ORx%2bYT6x%2fzglkPa47629%2bQ&pid=Api'},\n",
       "  'provider': 'Bing',\n",
       "  'published': '2024-08-17T20:15:00.0000000',\n",
       "  'publisher': 'YouTube',\n",
       "  'statistics': {'viewCount': 13215},\n",
       "  'title': \"Gold medal boxer Imane Khelif gets hero's welcome in Algeria | DW News\",\n",
       "  'uploader': 'DW News'}]"
      ]
     },
     "execution_count": 8,
     "metadata": {},
     "output_type": "execute_result"
    }
   ],
   "source": [
    "chato.videos(\"most gold medal for olyphmic 2024 \",max_results=6)"
   ]
  },
  {
   "cell_type": "markdown",
   "metadata": {},
   "source": [
    "## Text Search"
   ]
  },
  {
   "cell_type": "code",
   "execution_count": 66,
   "metadata": {},
   "outputs": [
    {
     "data": {
      "text/plain": [
       "[{'title': 'Who won the Olympics? Final medal count, standings, most gold winners ...',\n",
       "  'href': 'https://www.sportingnews.com/us/olympics/news/olympics-winner-2024-final-medal-standings-usa/10d8066d05bb7d20c197104f',\n",
       "  'body': 'MORE: The greatest 33 U.S. Summer Olympians of all time Olympic medal leaders by year. The United States has finished atop the medal count in seven of the last 10 Summer Olympics. The last nation ...'},\n",
       " {'title': 'Who is winning the Olympics? Updated 2024 medal standings, most gold ...',\n",
       "  'href': 'https://www.sportingnews.com/us/olympics/news/olympics-winner-2024-medal-standings/56aeaa329e2aa38435ac7b62',\n",
       "  'body': 'The United States again comfortably finished with the most medals at the 2020 Olympics in Tokyo, winning 113 overall and 39 gold, but the gap narrowed from 2016 when the U.S. won by a margin of 51 ...'},\n",
       " {'title': 'List of 2024 Summer Olympics medal winners - Wikipedia',\n",
       "  'href': 'https://en.wikipedia.org/wiki/List_of_2024_Summer_Olympics_medal_winners',\n",
       "  'body': 'The programme of the 2024 Summer Olympics featured 329 events in 32 sports, including the 28 \"core\" Olympic sports contested in 2016 and 2020, [1] and four optional sports that were proposed by the Paris Organising Committee: breaking made its Olympic debut as an optional sport, while skateboarding, sport climbing, and surfing returned from 2020. [2] [3]'},\n",
       " {'title': '2024 Summer Olympics medal table - Wikipedia',\n",
       "  'href': 'https://en.wikipedia.org/wiki/2024_Summer_Olympics_medal_table',\n",
       "  'body': \"Paris 2024 Organizing Committee President Tony Estanguet unveiled the Olympic and Paralympic medals for the Games in February 2024, which on the obverse featured embedded hexagon-shaped tokens of scrap iron that had been taken from the original construction of the Eiffel Tower, with the Games' logo engraved into it. [21] Approximately 5,084 medals were produced by the French mint Monnaie de ...\"},\n",
       " {'title': 'Medal Count - Paris 2024 Olympic Medal Table',\n",
       "  'href': 'https://olympics.com/en/paris-2024/medals?displayAsWebViewdark=true',\n",
       "  'body': 'Official medal standings for the Paris 2024 Olympics (Jul 26-Aug 11, 2024). Find out which athletes are bringing home medals and breaking records. ... Does not include medals won by AIN. Timing and scoring provided by OMEGA. Results powered by Atos. POWERED BY.'}]"
      ]
     },
     "execution_count": 66,
     "metadata": {},
     "output_type": "execute_result"
    }
   ],
   "source": [
    "chato.text(\"who won highest medal in olyphmic 2024\",max_results=5)"
   ]
  },
  {
   "cell_type": "code",
   "execution_count": 67,
   "metadata": {},
   "outputs": [
    {
     "data": {
      "text/plain": [
       "[{'title': 'Weather in Goa, India | timeanddate.com',\n",
       "  'href': 'https://www.timeanddate.com/weather/india/goa',\n",
       "  'body': 'Current weather in Goa, with temperatures in 3 cities, including high and low temperatures for the country.'},\n",
       " {'title': '403516, Goa, India Weather Forecast | AccuWeather',\n",
       "  'href': 'https://www.accuweather.com/en/in/403516/403516/weather-forecast/528454_pc',\n",
       "  'body': '403516, Goa, India Weather Forecast, with current conditions, wind, air quality, and what to expect for the next 3 days.'},\n",
       " {'title': 'Goa (India) weather | Met Office',\n",
       "  'href': 'https://www.metoffice.gov.uk/weather/forecast/tdsxe1jgg',\n",
       "  'body': 'Coondapur 131 miles. View all locations in India. Goa 7 day weather forecast including weather warnings, temperature, rain, wind, visibility, humidity and UV.'},\n",
       " {'title': 'Hourly forecast for Goa, Goa, India | timeanddate.com',\n",
       "  'href': 'https://www.timeanddate.com/weather/@1271157/hourly',\n",
       "  'body': 'Sun & Moon. Weather Today Weather Hourly 14 Day Forecast Yesterday/Past Weather Climate (Averages) Currently: 78 °F. Light rain. Overcast. (Weather station: Goa/Panjim, India). See more current weather.'},\n",
       " {'title': '403601, Goa, India Weather Forecast | AccuWeather',\n",
       "  'href': 'https://www.accuweather.com/en/in/403601/403601/weather-forecast/528461_pc',\n",
       "  'body': '403601, Goa, India Weather Forecast, with current conditions, wind, air quality, and what to expect for the next 3 days.'}]"
      ]
     },
     "execution_count": 67,
     "metadata": {},
     "output_type": "execute_result"
    }
   ],
   "source": [
    "chato.text(\"what is the whether today is Goa India\",max_results=5)"
   ]
  },
  {
   "cell_type": "code",
   "execution_count": null,
   "metadata": {},
   "outputs": [],
   "source": []
  },
  {
   "cell_type": "code",
   "execution_count": 11,
   "metadata": {},
   "outputs": [
    {
     "name": "stderr",
     "output_type": "stream",
     "text": [
      "c:\\Users\\faiza\\Music\\llmResearch\\gemini-api-python-function-calling-sample\\env\\Lib\\site-packages\\pydantic\\_internal\\_config.py:341: UserWarning: Valid config keys have changed in V2:\n",
      "* 'allow_population_by_field_name' has been renamed to 'populate_by_name'\n",
      "* 'smart_union' has been removed\n",
      "  warnings.warn(message, UserWarning)\n"
     ]
    },
    {
     "name": "stdout",
     "output_type": "stream",
     "text": [
      "id='900f22d0-a6d0-4bb5-af0b-98557956cfed' results=[RerankResponseResultsItem(document=None, index=3, relevance_score=0.999071), RerankResponseResultsItem(document=None, index=4, relevance_score=0.7867867), RerankResponseResultsItem(document=None, index=0, relevance_score=0.32713068)] meta=ApiMeta(api_version=ApiMetaApiVersion(version='1', is_deprecated=None, is_experimental=None), billed_units=ApiMetaBilledUnits(input_tokens=None, output_tokens=None, search_units=1.0, classifications=None), tokens=None, warnings=None)\n"
     ]
    }
   ],
   "source": [
    "import cohere\n",
    "from dotenv import load_dotenv\n",
    "import os\n",
    "load_dotenv()\n",
    "co = cohere.Client(api_key=os.getenv(\"COHERENT_API_KEY\"))\n",
    "\n",
    "docs = [\n",
    "    \"Carson City is the capital city of the American state of Nevada.\",\n",
    "    \"The Commonwealth of the Northern Mariana Islands is a group of islands in the Pacific Ocean. Its capital is Saipan.\",\n",
    "    \"Capitalization or capitalisation in English grammar is the use of a capital letter at the start of a word. English usage varies from capitalization in other languages.\",\n",
    "    \"Washington, D.C. (also known as simply Washington or D.C., and officially as the District of Columbia) is the capital of the United States. It is a federal district.\",\n",
    "    \"Capital punishment (the death penalty) has existed in the United States since beforethe United States was a country. As of 2017, capital punishment is legal in 30 of the 50 states.\",\n",
    "]\n",
    "\n",
    "response = co.rerank(\n",
    "    model=\"rerank-english-v3.0\",\n",
    "    query=\"What is the capital of the United States?\",\n",
    "    documents=docs,\n",
    "    top_n=3,\n",
    ")\n",
    "print(response)\n"
   ]
  },
  {
   "cell_type": "code",
   "execution_count": 68,
   "metadata": {},
   "outputs": [
    {
     "data": {
      "text/plain": [
       "[{'title': 'Quepem, Goa, India Weather Forecast | AccuWeather',\n",
       "  'href': 'https://www.accuweather.com/en/in/quepem/202400/weather-forecast/202400',\n",
       "  'body': 'Quepem, Goa, India Weather Forecast, with current conditions, wind, air quality, and what to expect for the next 3 days.'},\n",
       " {'title': 'Quepem, Goa, India Current Weather | AccuWeather',\n",
       "  'href': 'https://www.accuweather.com/en/in/quepem/202400/current-weather/202400',\n",
       "  'body': 'Current weather in Quepem, Goa, India. Check current conditions in Quepem, Goa, India with radar, hourly, and more.'},\n",
       " {'title': 'Quepem, Goa, India Hourly Weather | AccuWeather',\n",
       "  'href': 'https://www.accuweather.com/en/in/quepem/202400/hourly-weather-forecast/202400',\n",
       "  'body': 'Hourly weather forecast in Quepem, Goa, India. Check current conditions in Quepem, Goa, India with radar, hourly, and more.'},\n",
       " {'title': 'Hourly forecast for Quepem, Goa, India - timeanddate.com',\n",
       "  'href': 'https://www.timeanddate.com/weather/@1259098/hourly',\n",
       "  'body': 'Hour-by-Hour Forecast for Quepem, Goa, India. Time/General. Weather. Time Zone. DST Changes. Sun & Moon. Weather Today Weather Hourly 14 Day Forecast Yesterday/Past Weather Climate (Averages) Currently: 77 °F. Light rain.'},\n",
       " {'title': 'Weather for Quepem, Goa, India - timeanddate.com',\n",
       "  'href': 'https://www.timeanddate.com/weather/@1259098',\n",
       "  'body': '99 / 79 °F. 10. 98 / 80 °F. 11. 98 / 80 °F. Detailed forecast for 14 days. Need some help? Current weather in Quepem and forecast for today, tomorrow, and next 14 days.'},\n",
       " {'title': 'Quepem, Goa, India Weather - The Weather Channel',\n",
       "  'href': 'https://weather.com/weather/today/l/ba914069b975167e43e9901bb51cfeade5bb41492f3a0ab5c3fe8cc5e6c8b1f5',\n",
       "  'body': \"Today's and tonight's Quepem, Goa, India weather forecast, weather conditions and Doppler radar from The Weather Channel and Weather.com\"}]"
      ]
     },
     "execution_count": 68,
     "metadata": {},
     "output_type": "execute_result"
    }
   ],
   "source": [
    "query=\"what is the today tempature in Goa Quepem\"\n",
    "search_res=chato.text(query,max_results=6)\n",
    "search_res"
   ]
  },
  {
   "cell_type": "code",
   "execution_count": 71,
   "metadata": {},
   "outputs": [
    {
     "name": "stdout",
     "output_type": "stream",
     "text": [
      "----------------------------------------------------------------------------------------------------\n",
      "response\n"
     ]
    },
    {
     "data": {
      "text/markdown": [
       "> It looks like the temperature in Quepem, Goa is currently 77°F!  That's according to timeanddate.com. \n",
       "> \n",
       "> Do you want to know more about the weather in Quepem, like the forecast for the next few days, or maybe some hourly details? Just ask! 😊 \n"
      ],
      "text/plain": [
       "<IPython.core.display.Markdown object>"
      ]
     },
     "execution_count": 71,
     "metadata": {},
     "output_type": "execute_result"
    }
   ],
   "source": [
    "import google.generativeai as genai\n",
    "load_dotenv()\n",
    "\n",
    "genai.configure(api_key=os.getenv('GEMINI_API_KEY'))\n",
    "model = genai.GenerativeModel('gemini-1.5-flash')\n",
    "\n",
    "print(\"-\" * 100)\n",
    "print(\"response\")\n",
    "result = model.generate_content(\n",
    "    f\"\"\"\n",
    "    Based on this information: `{search_res}` \n",
    "    and this question: `{query}`\n",
    "    respond to the user in a friendly manner.\n",
    "    \"\"\"\n",
    ")\n",
    "to_markdown(result.text)"
   ]
  },
  {
   "cell_type": "code",
   "execution_count": 73,
   "metadata": {},
   "outputs": [
    {
     "name": "stdout",
     "output_type": "stream",
     "text": [
      "id='4d4d38ff-ccfe-415f-8e2d-e4d54fb2f977' results=[RerankResponseResultsItem(document=None, index=5, relevance_score=0.9935369), RerankResponseResultsItem(document=None, index=4, relevance_score=0.9768466), RerankResponseResultsItem(document=None, index=1, relevance_score=0.83169055)] meta=ApiMeta(api_version=ApiMetaApiVersion(version='1', is_deprecated=None, is_experimental=None), billed_units=ApiMetaBilledUnits(input_tokens=None, output_tokens=None, search_units=1.0, classifications=None), tokens=None, warnings=None)\n"
     ]
    }
   ],
   "source": [
    "# rerank\n",
    "query=\"what is the today tempature in Goa Quepem\"\n",
    "text_results=chato.text(query,max_results=6)\n",
    "docs=[search['body'] for search in text_results]\n",
    "response = co.rerank(\n",
    "    model=\"rerank-english-v3.0\",\n",
    "    query=query,\n",
    "    documents=docs,\n",
    "    top_n=3,\n",
    ")\n",
    "\n",
    "print(response)"
   ]
  },
  {
   "cell_type": "code",
   "execution_count": 74,
   "metadata": {},
   "outputs": [
    {
     "data": {
      "text/plain": [
       "['Quepem, Goa, India Weather Forecast, with current conditions, wind, air quality, and what to expect for the next 3 days.',\n",
       " 'Current weather in Quepem, Goa, India. Check current conditions in Quepem, Goa, India with radar, hourly, and more.',\n",
       " 'Get accurate hourly forecasts for today, tonight, and tomorrow, along with 10-day daily forecasts and weather radar for Quepem, Goa with MSN Weather. Stay updated on precipitation, severe weather ...',\n",
       " 'Hourly weather forecast in Quepem, Goa, India. Check current conditions in Quepem, Goa, India with radar, hourly, and more.',\n",
       " '99 / 79 °F. 10. 98 / 80 °F. 11. 98 / 80 °F. Detailed forecast for 14 days. Need some help? Current weather in Quepem and forecast for today, tomorrow, and next 14 days.',\n",
       " 'Hour-by-Hour Forecast for Quepem, Goa, India. Time/General. Weather. Time Zone. DST Changes. Sun & Moon. Weather Today Weather Hourly 14 Day Forecast Yesterday/Past Weather Climate (Averages) Currently: 77 °F. Light rain.']"
      ]
     },
     "execution_count": 74,
     "metadata": {},
     "output_type": "execute_result"
    }
   ],
   "source": [
    "docs"
   ]
  },
  {
   "cell_type": "code",
   "execution_count": 75,
   "metadata": {},
   "outputs": [
    {
     "data": {
      "text/plain": [
       "5"
      ]
     },
     "execution_count": 75,
     "metadata": {},
     "output_type": "execute_result"
    }
   ],
   "source": [
    "response.results[0].index"
   ]
  },
  {
   "cell_type": "code",
   "execution_count": 76,
   "metadata": {},
   "outputs": [
    {
     "name": "stdout",
     "output_type": "stream",
     "text": [
      "----------------------------------------------------------------------------------------------------\n"
     ]
    },
    {
     "data": {
      "text/markdown": [
       "> It looks like the temperature in Quepem, Goa today is 77°F!  It's currently light rain, so you might want to grab an umbrella if you're heading out. 😊 \n"
      ],
      "text/plain": [
       "<IPython.core.display.Markdown object>"
      ]
     },
     "execution_count": 76,
     "metadata": {},
     "output_type": "execute_result"
    }
   ],
   "source": [
    "\n",
    "print(\"-\" * 100)\n",
    "result = model.generate_content(\n",
    "    f\"\"\"\n",
    "    Based on this information: `{docs}` \n",
    "    and this question: `{query}`\n",
    "    respond to the user in a friendly manner.\n",
    "    \"\"\"\n",
    ")\n",
    "to_markdown(result.text)"
   ]
  },
  {
   "cell_type": "code",
   "execution_count": 84,
   "metadata": {},
   "outputs": [
    {
     "name": "stdout",
     "output_type": "stream",
     "text": [
      "query: who won cricket 2024 t20 world cup\n",
      "result:\n",
      " [{'title': 'India script stunning title win - International Cricket Council', 'href': 'https://www.icc-cricket.com/tournaments/t20cricketworldcup/videos/india-script-stunning-title-win-match-highlights-sa-v-ind-t20wc-2024-final', 'body': \"ICC Men's T20 World Cup, 2024. India script stunning title win | Match Highlights | SA v IND | T20WC 2024 Final. 29 June, 2024. Latest Videos. ICC Cricket World Cup, 2023. Power Performances presented by Aramco | Episode 3 | CWC 2023. 20h. Cricket World Cup. Best of KL Rahul | CWC23. 22 December, 2023.\"}, {'title': \"2024 ICC Men's T20 World Cup final - Wikipedia\", 'href': \"https://en.wikipedia.org/wiki/2024_ICC_Men's_T20_World_Cup_final\", 'body': \"The 2024 ICC Men's T20 World Cup final was a Twenty20 International cricket match played at Kensington Oval in Bridgetown, Barbados on 29 June 2024 to determine the winner of the 2024 ICC Men's T20 World Cup. [1] [2] It was played between South Africa and India.[3]India defeated South Africa by 7 runs to win their second T20 World Cup title. [4] Virat Kohli was named Player of the Match for ...\"}, {'title': \"India wins men's T20 World Cup, defeating South Africa in ... - CNN\", 'href': 'https://www.cnn.com/2024/06/29/sport/india-south-africa-t20-mens-world-cup-final-spt-intl/index.html', 'body': \"India produced a brilliant performance to defeat South Africa in a dramatic men's T20 World Cup final, ending a long 13-year wait for the cricket-obsessed nation since its last World Cup win.\"}, {'title': 'Team India becomes T20 World Cup 2024 champions, Virat Kohli retires ...', 'href': 'https://apnews.com/article/t20-world-cup-final-india-south-africa-7e34991216a0e6b32e0ead3d5dbf6684', 'body': \"Updated 12:16 PM PDT, June 29, 2024. BRIDGETOWN, Barbados (AP) — India pulled off a sensational seven-run win against South Africa in a gripping final of the Twenty20 World Cup on Saturday. South Africa, playing its first ever final of an ICC tournament, needed a run-a-ball 30 to win on the back of Heinrich Klaasen's belligerent 52 off 27 ...\"}, {'title': 'India Wins T20 Cricket World Cup, Stamping Its Domination of the Sport ...', 'href': 'https://www.nytimes.com/2024/06/30/world/asia/india-wins-cricket-world-cup.html', 'body': \"Published June 30, 2024 Updated July 1, 2024. India won the men's Cricket World Cup on Saturday, defeating South Africa to end a dry spell in tournament victories that had lasted over a decade ...\"}, {'title': 'IND vs SA Cricket Scorecard, Final at Bridgetown, June 29, 2024', 'href': 'https://www.espncricinfo.com/series/icc-men-s-t20-world-cup-2024-1411166/india-vs-south-africa-final-1415755/full-scorecard', 'body': \"Live Cricket Scoreboard: Get India vs South Africa Final, cricket scorecard, ICC Men's T20 World Cup 2024 dated June 29, 2024.\"}]\n",
      "reRank id='ac6e9780-f050-4c3b-9412-c882151ae0fb' results=[RerankResponseResultsItem(document=None, index=1, relevance_score=0.9978173), RerankResponseResultsItem(document=None, index=0, relevance_score=0.99090964), RerankResponseResultsItem(document=None, index=3, relevance_score=0.98463464)] meta=ApiMeta(api_version=ApiMetaApiVersion(version='1', is_deprecated=None, is_experimental=None), billed_units=ApiMetaBilledUnits(input_tokens=None, output_tokens=None, search_units=1.0, classifications=None), tokens=None, warnings=None)\n",
      "----------------------------------------------------------------------------------------------------\n",
      "response :\n"
     ]
    },
    {
     "data": {
      "text/markdown": [
       "> Great question!  🎉  India won the 2024 T20 Cricket World Cup!  They beat South Africa in a thrilling final match on June 29th. 🏏🏆 \n"
      ],
      "text/plain": [
       "<IPython.core.display.Markdown object>"
      ]
     },
     "execution_count": 84,
     "metadata": {},
     "output_type": "execute_result"
    }
   ],
   "source": [
    "import cohere\n",
    "from dotenv import load_dotenv\n",
    "import os\n",
    "load_dotenv()\n",
    "co = cohere.Client(api_key=os.getenv(\"COHERENT_API_KEY\"))\n",
    "\n",
    "def generate(query:str):\n",
    "    print(\"query: \" + query)\n",
    "\n",
    "    # web search duck duck go\n",
    "    text_results=chato.text(query,max_results=6)\n",
    "    print(\"result:\\n\",text_results)\n",
    "    docs=[search['body'] for search in text_results]\n",
    "\n",
    "    # rerank\n",
    "    response = co.rerank(\n",
    "        model=\"rerank-english-v3.0\",\n",
    "        query=query,\n",
    "        documents=docs,\n",
    "        top_n=3,\n",
    "    )\n",
    "\n",
    "    print(\"reRank\",response)\n",
    "    model = genai.GenerativeModel('gemini-1.5-flash')\n",
    "    print(\"-\" * 100)\n",
    "    print(\"response :\")\n",
    "    result = model.generate_content(\n",
    "        f\"\"\"\n",
    "        Based on this information: `{docs}` \n",
    "        and this question: `{query}`\n",
    "        respond to the user in a friendly manner.\n",
    "        \"\"\"\n",
    "    )\n",
    "    return result.text\n",
    "\n",
    "query=\"who won cricket 2024 t20 world cup\"\n",
    "to_markdown(generate(query))"
   ]
  },
  {
   "cell_type": "code",
   "execution_count": 79,
   "metadata": {},
   "outputs": [
    {
     "name": "stdout",
     "output_type": "stream",
     "text": [
      "query: who won highest medal in olymphic 2024\n",
      "result:\n",
      " [{'title': 'Who won the Olympics? Final medal count, standings, most gold winners ...', 'href': 'https://www.sportingnews.com/us/olympics/news/olympics-winner-2024-final-medal-standings-usa/10d8066d05bb7d20c197104f', 'body': 'MORE: The greatest 33 U.S. Summer Olympians of all time Olympic medal leaders by year. The United States has finished atop the medal count in seven of the last 10 Summer Olympics. The last nation ...'}, {'title': 'Medal Count - Paris 2024 Olympic Medal Table', 'href': 'https://olympics.com/en/paris-2024/medals?displayAsWebViewdark=true', 'body': 'Official medal standings for the Paris 2024 Olympics (Jul 26-Aug 11, 2024). Find out which athletes are bringing home medals and breaking records. ... Does not include medals won by AIN. Timing and scoring provided by OMEGA. Results powered by Atos. POWERED BY.'}, {'title': 'Who is winning the Olympics? Updated 2024 medal standings, most gold ...', 'href': 'https://www.sportingnews.com/us/olympics/news/olympics-winner-2024-medal-standings/56aeaa329e2aa38435ac7b62', 'body': 'The United States again comfortably finished with the most medals at the 2020 Olympics in Tokyo, winning 113 overall and 39 gold, but the gap narrowed from 2016 when the U.S. won by a margin of 51 ...'}, {'title': '2024 Olympics medal count: Who won a medal in Paris today? | AP News', 'href': 'https://apnews.com/article/olympics-2024-medal-winners-today-b9522fd1223ae6599569ffe1ee48cc62', 'body': \"7 of 7 | . Lydia Ko, of New Zealand, centre, gold medal, with Esther Henseleit, of Germany,, left, silver medal and Xiyu Lin, of China, bronze medal take a picture on the winners podium after the medal ceremony following the final round of the women's golf event at the 2024 Summer Olympics, Saturday, Aug. 10, 2024, at Le Golf National, in Saint-Quentin-en-Yvelines, France.\"}, {'title': 'The final Olympic medal tally puts the U.S. on top in Paris', 'href': 'https://www.npr.org/2024/08/11/nx-s1-5071150/paris-olympics-medal-total-us-gold', 'body': \"Katie Ledecky scored two of America's forty Olympic gold medals in the Paris Summer Games. The U.S. tied with China for the most gold, but the U.S. dominated the overall count with 126 medals ...\"}, {'title': 'The final Olympic medal tally puts US on top in Paris, China finishes ...', 'href': 'https://apnews.com/article/2024-olympics-medals-united-states-china-e9f013a206e0de69c41686ee122f425a', 'body': \"FILE - Antoine Dupont of France kisses his gold medal as he celebrates after France won the men's Rugby Sevens gold medal at the 2024 Summer Olympics, in the Stade de France, in Saint-Denis, France, Saturday, July 27, 2024. France defeated Fiji in the gold medal match 28-7. (AP Photo/Tsvangirayi Mukwazhi, File)\"}]\n",
      "reRank id='e498d85e-ae9b-4666-ab5f-d3aae00346df' results=[RerankResponseResultsItem(document=None, index=3, relevance_score=0.12189466), RerankResponseResultsItem(document=None, index=5, relevance_score=0.07793769), RerankResponseResultsItem(document=None, index=1, relevance_score=0.00598033)] meta=ApiMeta(api_version=ApiMetaApiVersion(version='1', is_deprecated=None, is_experimental=None), billed_units=ApiMetaBilledUnits(input_tokens=None, output_tokens=None, search_units=1.0, classifications=None), tokens=None, warnings=None)\n",
      "----------------------------------------------------------------------------------------------------\n",
      "response :\n"
     ]
    },
    {
     "data": {
      "text/markdown": [
       "> That's a great question!  Unfortunately, I can't give you a definitive answer about who won the \"highest medal\" in the 2024 Olympics.  It looks like the information I have focuses on overall medal counts for countries, not individual athletes.  \n",
       "> \n",
       "> It does mention that the U.S. won the most medals overall (126) with 40 gold medals.  Katie Ledecky won two of those gold medals for the U.S.  It also mentions that France won the gold medal in men's Rugby Sevens. \n",
       "> \n",
       "> To find out who won the highest medal for a specific sport, you'd need to look up the results for that event! 😊 \n"
      ],
      "text/plain": [
       "<IPython.core.display.Markdown object>"
      ]
     },
     "execution_count": 79,
     "metadata": {},
     "output_type": "execute_result"
    }
   ],
   "source": [
    "query=\"who won highest medal in olymphic 2024\"\n",
    "to_markdown(generate(query))"
   ]
  },
  {
   "cell_type": "code",
   "execution_count": 81,
   "metadata": {},
   "outputs": [
    {
     "name": "stdout",
     "output_type": "stream",
     "text": [
      "query: who won men table tennis gold medal in olymphic 2024\n",
      "result:\n",
      " [{'title': \"Paris 2024 table tennis: All results, as the People's Republic of China ...\", 'href': 'https://olympics.com/en/news/paris-2024-table-tennis-all-results-people-s-republic-of-china-win-gold-men-team', 'body': \"The People's Republic of China defended their gold medal in the men's table tennis team event in emphatic fashion, beating Sweden 3-0 at South Paris Arena on Friday, 9 August at the Olympic Games Paris 2024. It was their fifth title in the men's team event, a competition they have yet to lose since it debuted at the Olympic Games Beijing ...\"}, {'title': \"Ma Long vs Fan Zhendong | Men's Singles Table Tennis Gold Medal ...\", 'href': 'https://www.youtube.com/watch?v=VTCDQYYKA9o', 'body': \"📺 Re-live ALL the incredible #Paris2024 action ️ https://go.olympics.com/watch MA Long wins historic second straight Olympic gold in men's singles table te...\"}, {'title': \"Paris 2024 Olympics: China's Fan wins table tennis gold in men's ...\", 'href': 'https://sportstar.thehindu.com/olympics/paris-2024/fan-zhendong-wins-gold-table-tennis-mens-singles-paris-2024-olympics-results-scores-report-news-updates/article68485240.ece', 'body': \"China's Fan Zhendong won the gold medal in the table tennis men's singles at the Paris Olympics by beating Sweden's Truls Moregard, who took the silver, on Sunday. The 4-1 victory adds to China's gold medal sweep in the sport so far at the Paris Olympics, following his teammates' earlier triumphs in the women's singles and mixed ...\"}, {'title': 'Olympic table tennis at Paris 2024: Biggest stories, replays, medal ...', 'href': 'https://www.nbcolympics.com/news/olympic-table-tennis-paris-2024-biggest-stories-replays-medal-results-top-athletes-new-records', 'body': \"Table tennis titan Ma Long finally made his long-awaited return to the Olympic table, and simultaneously his golden farewell.. The Chinese men's team captured the country's fourth golden medal of the tournament in the final, defeating the surprise Swedish men's team 3-0. The win was a perfect sendoff for the Ma, who announced prior to the Games that Paris would be his last Olympic appearance.\"}, {'title': \"Men's Singles Gold Medal Match | Table Tennis | Olympic Games Paris 2024\", 'href': 'https://olympics.com/en/paris-2024/videos/men-s-singles-gold-medal-match-table-tennis-olympic-games-paris-2024-x0863', 'body': \"Noah Lyles says hello to Olympic triumph, Andy Murray says farewell. The Men's Singles Table Tennis Gold Medal Match was held on 04/08/2024 at South Paris Arena 4, Paris. Fan Zhendong (CHN) claimed the Gold with a 4:1 victory against Truls Moregard (SWE).\"}, {'title': \"Table tennis-Ma shines as China retain men's team title\", 'href': 'https://www.reuters.com/sports/olympics/table-tennis-china-win-mens-team-gold-2024-08-09/', 'body': \"Item 1 of 3 Paris 2024 Olympics - Table Tennis - Men's Team Gold Medal Team Match - South Paris Arena 4, Paris, France - August 09, 2024. Zhendong Fan of China in action during his gold medal ...\"}]\n",
      "reRank id='4b7ddca3-42b4-4cb0-bd08-93ce954c373e' results=[RerankResponseResultsItem(document=None, index=4, relevance_score=0.9961755), RerankResponseResultsItem(document=None, index=0, relevance_score=0.99184376), RerankResponseResultsItem(document=None, index=5, relevance_score=0.98384714)] meta=ApiMeta(api_version=ApiMetaApiVersion(version='1', is_deprecated=None, is_experimental=None), billed_units=ApiMetaBilledUnits(input_tokens=None, output_tokens=None, search_units=1.0, classifications=None), tokens=None, warnings=None)\n",
      "----------------------------------------------------------------------------------------------------\n",
      "response :\n"
     ]
    },
    {
     "data": {
      "text/markdown": [
       "> That's a great question! 🎉 \n",
       "> \n",
       "> It looks like **China** won the gold medal in the **men's table tennis team event** at the 2024 Olympics.  They beat Sweden 3-0 in the final match. \n",
       "> \n",
       "> But if you're asking about the **men's singles** event, the gold medal went to **Fan Zhendong** of China! He beat Truls Moregard of Sweden to claim the victory. 🏆 \n"
      ],
      "text/plain": [
       "<IPython.core.display.Markdown object>"
      ]
     },
     "execution_count": 81,
     "metadata": {},
     "output_type": "execute_result"
    }
   ],
   "source": [
    "query=\"who won men table tennis gold medal in olymphic 2024\"\n",
    "to_markdown(generate(query))"
   ]
  },
  {
   "cell_type": "code",
   "execution_count": 28,
   "metadata": {},
   "outputs": [
    {
     "name": "stdout",
     "output_type": "stream",
     "text": [
      "query: hey\n",
      "result:\n",
      " [{'title': 'HEY | definition in the Cambridge English Dictionary', 'href': 'https://dictionary.cambridge.org/us/dictionary/english/hey', 'body': \"HEY meaning: 1. used as a way of attracting someone's attention, sometimes in a way that is not very polite: 2…. Learn more.\"}, {'title': 'Hey - Red Hot Chili Peppers (lyrics on screen) - YouTube', 'href': 'https://www.youtube.com/watch?v=m1xN7w07EWM', 'body': 'hey by the red hot chili peppers. all of this is owned by the red hot chili peppers and warner brothers. no copyright infringement intended.enjoy(:'}, {'title': 'HEY — A delightfully fresh take on email + calendar, from 37signals', 'href': 'https://www.hey.com/', 'body': \"HEY is a new email and calendar app that lets you control who can email you, organize your messages in different boxes, and browse newsletters and long-reads. It's a fresh take on email by the creators of Basecamp and 37signals.\"}, {'title': 'Hey Definition & Meaning - Merriam-Webster', 'href': 'https://www.merriam-webster.com/dictionary/hey', 'body': 'Learn the meaning, usage, and origin of the interjection hey, which can express attention, interrogation, surprise, or exultation. Find synonyms, related phrases, and example sentences from various sources.'}, {'title': 'HEY Definition & Meaning | Dictionary.com', 'href': 'https://www.dictionary.com/browse/hey', 'body': 'Hey definition: (used as an exclamation to call attention or to express pleasure, surprise, bewilderment, etc.). See examples of HEY used in a sentence.'}, {'title': 'Hey Definition & Meaning | YourDictionary', 'href': 'https://www.yourdictionary.com/hey', 'body': 'Learn the origin, synonyms, and usage of the interjection hey, which can express greeting, surprise, or reprimand. Also, find out the noun meaning of hey in country dancing.'}]\n",
      "reRank id='e65ad2d6-671f-451a-b7ee-1998b1246c90' results=[RerankResponseResultsItem(document=None, index=4, relevance_score=0.99909955), RerankResponseResultsItem(document=None, index=0, relevance_score=0.9961606), RerankResponseResultsItem(document=None, index=2, relevance_score=0.9947799)] meta=ApiMeta(api_version=ApiMetaApiVersion(version='1', is_deprecated=None, is_experimental=None), billed_units=ApiMetaBilledUnits(input_tokens=None, output_tokens=None, search_units=1.0, classifications=None), tokens=None, warnings=None)\n",
      "----------------------------------------------------------------------------------------------------\n",
      "response :\n"
     ]
    },
    {
     "data": {
      "text/plain": [
       "'Hey there! 👋  You\\'re asking about the word \"hey.\"  It\\'s a pretty versatile word, huh? It can be used in a lot of different ways.  Do you want to know more about its different meanings, how people use it, or maybe some examples?  Just let me know! 😊 \\n'"
      ]
     },
     "execution_count": 28,
     "metadata": {},
     "output_type": "execute_result"
    }
   ],
   "source": [
    "query=\"hey\"\n",
    "to_markdown(generate(query))"
   ]
  },
  {
   "cell_type": "markdown",
   "metadata": {},
   "source": [
    "## Query Classification"
   ]
  },
  {
   "cell_type": "code",
   "execution_count": 96,
   "metadata": {},
   "outputs": [
    {
     "name": "stdout",
     "output_type": "stream",
     "text": [
      "{'results': 'yes'}\n",
      "Query: who won cricket t20 2024\n",
      "Results:\n",
      " [{'title': \"2024 ICC Men's T20 World Cup final - Wikipedia\", 'href': 'https://en.wikipedia.org/wiki/2024_Cricket_World_Cup_final', 'body': \"The 2024 ICC Men's T20 World Cup final was a Twenty20 International cricket match played at Kensington Oval in Bridgetown, Barbados on 29 June 2024 to determine the winner of the 2024 ICC Men's T20 World Cup. [1] [2] It was played between South Africa and India.[3]India defeated South Africa by 7 runs to win their second T20 World Cup title. [4] Virat Kohli was named Player of the Match for ...\"}, {'title': 'India script stunning title win - International Cricket Council', 'href': 'https://www.icc-cricket.com/tournaments/t20cricketworldcup/videos/india-script-stunning-title-win-match-highlights-sa-v-ind-t20wc-2024-final', 'body': \"ICC Men's T20 World Cup, 2024. India script stunning title win | Match Highlights | SA v IND | T20WC 2024 Final. 29 June, 2024. Latest Videos. ICC Cricket World Cup, 2023. Power Performances presented by Aramco | Episode 3 | CWC 2023. 20h. Cricket World Cup. Best of KL Rahul | CWC23. 22 December, 2023.\"}, {'title': \"India wins men's T20 World Cup, defeating South Africa in ... - CNN\", 'href': 'https://www.cnn.com/2024/06/29/sport/india-south-africa-t20-mens-world-cup-final-spt-intl/index.html', 'body': \"India produced a brilliant performance to defeat South Africa in a dramatic men's T20 World Cup final, ending a long 13-year wait for the cricket-obsessed nation since its last World Cup win.\"}, {'title': 'Team India becomes T20 World Cup 2024 champions, Virat Kohli retires ...', 'href': 'https://apnews.com/article/t20-world-cup-final-india-south-africa-7e34991216a0e6b32e0ead3d5dbf6684', 'body': \"Updated 12:16 PM PDT, June 29, 2024. BRIDGETOWN, Barbados (AP) — India pulled off a sensational seven-run win against South Africa in a gripping final of the Twenty20 World Cup on Saturday. South Africa, playing its first ever final of an ICC tournament, needed a run-a-ball 30 to win on the back of Heinrich Klaasen's belligerent 52 off 27 ...\"}, {'title': 'IND vs SA Cricket Scorecard, Final at Bridgetown, June 29, 2024', 'href': 'https://www.espncricinfo.com/series/icc-men-s-t20-world-cup-2024-1411166/india-vs-south-africa-final-1415755/full-scorecard', 'body': \"Live Cricket Scoreboard: Get India vs South Africa Final, cricket scorecard, ICC Men's T20 World Cup 2024 dated June 29, 2024.\"}, {'title': 'T20 World Cup 2024, IND vs SA Final Match Report, June 29, 2024 ...', 'href': 'https://www.espncricinfo.com/series/icc-men-s-t20-world-cup-2024-1411166/india-vs-south-africa-final-1415755/match-report', 'body': 'T20 World Cup 2024, India vs South Africa Match Report: South Africa needed 30 off 30 balls with six wickets in hand, to win their maiden World Cup title, and then India fought back'}]\n",
      "Reranked: id='e4e08fad-8054-44ee-b150-7a3d21fe6e05' results=[RerankResponseResultsItem(document=None, index=0, relevance_score=0.99547917), RerankResponseResultsItem(document=None, index=5, relevance_score=0.9852146), RerankResponseResultsItem(document=None, index=1, relevance_score=0.97272736)] meta=ApiMeta(api_version=ApiMetaApiVersion(version='1', is_deprecated=None, is_experimental=None), billed_units=ApiMetaBilledUnits(input_tokens=None, output_tokens=None, search_units=1.0, classifications=None), tokens=None, warnings=None)\n",
      "----------------------------------------------------------------------------------------------------\n",
      "Response:\n",
      "India won the 2024 T20 World Cup!  They had a thrilling victory over South Africa in the final. 🏏🏆  \n",
      "\n"
     ]
    }
   ],
   "source": [
    "from dotenv import load_dotenv\n",
    "import os\n",
    "import cohere\n",
    "import json\n",
    "# Load environment variables\n",
    "load_dotenv()\n",
    "\n",
    "# co = cohere.Client(api_key=os.getenv(\"COHERENT_API_KEY\"))\n",
    "\n",
    "def websearch(query: str):\n",
    "    print(\"Query:\", query)\n",
    "\n",
    "    # Web search using DuckDuckGo (assuming chato.text is a function for this)\n",
    "    text_results = chato.text(query, max_results=6)\n",
    "    print(\"Results:\\n\", text_results)\n",
    "    docs = [search['body'] for search in text_results]\n",
    "\n",
    "    # Rerank results\n",
    "    rerank_response = co.rerank(\n",
    "        model=\"rerank-english-v3.0\",\n",
    "        query=query,\n",
    "        documents=docs,\n",
    "        top_n=3\n",
    "    )\n",
    "\n",
    "    print(\"Reranked:\", rerank_response)\n",
    "\n",
    "    # Use the generative model for content generation\n",
    "    model = genai.GenerativeModel('gemini-1.5-flash')\n",
    "    print(\"-\" * 100)\n",
    "    print(\"Response:\")\n",
    "    result = model.generate_content(\n",
    "        f\"\"\"\n",
    "        Based on this information: `{docs}` \n",
    "        and this question: `{query}`,\n",
    "        respond to the user in a friendly manner.\n",
    "        \"\"\"\n",
    "    )\n",
    "    return result.text\n",
    "\n",
    "def classify_query(user_query: str):\n",
    "\n",
    "    # System prompt to classify the query\n",
    "    system_prompt = f\"\"\"\n",
    "    You are an AI classifier. Determine if the following question requires real-time or up-to-date knowledge to answer. Respond in JSON format as {{\"results\": \"yes\"}} if it requires real-time data, or {{\"results\": \"no\"}} if it does not. Do not provide any explanation.\n",
    "\n",
    "    Question: \"{user_query}\"\n",
    "    \"\"\"\n",
    "\n",
    "    # Generate classification using the generative model\n",
    "    model = genai.GenerativeModel('gemini-1.5-flash')\n",
    "    classification_result = json.loads(model.generate_content(system_prompt).text)\n",
    "    print(classification_result)\n",
    "    if classification_result['results'] == \"yes\":\n",
    "        # Websearch to get up-to-date information\n",
    "        return websearch(user_query)\n",
    "    else:\n",
    "        # Normal LLM query response\n",
    "        return model.generate_content(user_query).text\n",
    "\n",
    "\n",
    "# Example usage\n",
    "result = classify_query(\"who won cricket t20 2024\")\n",
    "print(result)\n"
   ]
  },
  {
   "cell_type": "code",
   "execution_count": 97,
   "metadata": {},
   "outputs": [
    {
     "name": "stdout",
     "output_type": "stream",
     "text": [
      "{'results': 'no'}\n",
      "Hello! How can I help you today? \n",
      "\n"
     ]
    }
   ],
   "source": [
    "# Example usage\n",
    "result = classify_query(\"hello\")\n",
    "print(result)\n"
   ]
  },
  {
   "cell_type": "code",
   "execution_count": 57,
   "metadata": {},
   "outputs": [
    {
     "name": "stdout",
     "output_type": "stream",
     "text": [
      "----------------------------------------------------------------------------------------------------\n",
      "Response:\n",
      "{'results': 'no'}\n",
      "I am an AI language model, so I don't have feelings like humans do. However, I am here to assist you with any questions or tasks you may have. How can I help you today? \n",
      "\n"
     ]
    }
   ],
   "source": [
    "# Example usage\n",
    "result = classify_query(\"how are you\")\n",
    "print(result)\n"
   ]
  },
  {
   "cell_type": "code",
   "execution_count": 94,
   "metadata": {},
   "outputs": [
    {
     "name": "stdout",
     "output_type": "stream",
     "text": [
      "{'results': 'yes'}\n",
      "Query: Who won the cricket T20 in 2024?\n",
      "Results:\n",
      " [{'title': \"2024 ICC Men's T20 World Cup final - Wikipedia\", 'href': 'https://en.wikipedia.org/wiki/2024_Cricket_World_Cup_final', 'body': \"The 2024 ICC Men's T20 World Cup final was a Twenty20 International cricket match played at Kensington Oval in Bridgetown, Barbados on 29 June 2024 to determine the winner of the 2024 ICC Men's T20 World Cup. [ 1][ 2] It was played between South Africa and India. [ 3]\"}, {'title': 'India script stunning title win | Match Highlights | SA v IND | T20WC ...', 'href': 'https://www.icc-cricket.com/tournaments/t20cricketworldcup/videos/india-script-stunning-title-win-match-highlights-sa-v-ind-t20wc-2024-final', 'body': \"India script stunning title win | Match Highlights | SA v IND | T20WC 2024 Final. overview U19 Cricket World Cup Highlighted Videos World Test Championship. ICC Men's T20 World Cup, 2024.\"}, {'title': \"India wins men's T20 World Cup, defeating South Africa in ... - CNN\", 'href': 'https://www.cnn.com/2024/06/29/sport/india-south-africa-t20-mens-world-cup-final-spt-intl/index.html', 'body': \"India produced a brilliant performance to defeat South Africa in a dramatic men's T20 World Cup final, ending a long 13-year wait for the cricket-obsessed nation since its last World Cup win.\"}, {'title': 'Team India becomes T20 World Cup 2024 champions, Virat Kohli retires ...', 'href': 'https://apnews.com/article/t20-world-cup-final-india-south-africa-7e34991216a0e6b32e0ead3d5dbf6684', 'body': 'India pulled off a sensational seven-run win against South Africa in a gripping final of the Twenty20 World Cup on Saturday.'}, {'title': 'IND vs SA Cricket Scorecard, Final at Bridgetown, June 29, 2024', 'href': 'https://www.espncricinfo.com/series/icc-men-s-t20-world-cup-2024-1411166/india-vs-south-africa-final-1415755/full-scorecard', 'body': \"Live Cricket Scoreboard: Get India vs South Africa Final, cricket scorecard, ICC Men's T20 World Cup 2024 dated June 29, 2024.\"}, {'title': 'Who won the 2024 T20 Cricket World Cup? - Sporting News', 'href': 'https://www.sportingnews.com/in/cricket/news/who-won-t20-world-cup-2024/bca2bcdde3cb55458dc04e59', 'body': 'T20 World Cup 2024 Final result, score. India: 176/7 in 20 overs. South Africa: 169/8 in 20 overs. India won their second T20 World Cup title by beating South Africa by 7 runs. If you purchase a ...'}]\n",
      "Reranked: id='3f3ed669-2b7a-4995-a47e-961292b407ec' results=[RerankResponseResultsItem(document=None, index=5, relevance_score=0.9977916), RerankResponseResultsItem(document=None, index=0, relevance_score=0.9976219), RerankResponseResultsItem(document=None, index=1, relevance_score=0.94957596)] meta=ApiMeta(api_version=ApiMetaApiVersion(version='1', is_deprecated=None, is_experimental=None), billed_units=ApiMetaBilledUnits(input_tokens=None, output_tokens=None, search_units=1.0, classifications=None), tokens=None, warnings=None)\n",
      "----------------------------------------------------------------------------------------------------\n",
      "Response:\n",
      "Great question! 🎉  India won the 2024 T20 World Cup! They beat South Africa in a thrilling final match. It was a big win for India, marking their second T20 World Cup title.  🇮🇳🏆 \n",
      "\n"
     ]
    }
   ],
   "source": [
    "import json\n",
    "\n",
    "\n",
    "# Example usage\n",
    "result = classify_query(\"Who won the cricket T20 in 2024?\")\n",
    "print(result)\n"
   ]
  },
  {
   "cell_type": "code",
   "execution_count": 95,
   "metadata": {},
   "outputs": [
    {
     "name": "stdout",
     "output_type": "stream",
     "text": [
      "{'results': 'no'}\n",
      "**Sri Lanka** won the Cricket T20 World Cup in 2014. \n",
      "\n"
     ]
    }
   ],
   "source": [
    "result = classify_query(\"Who won the cricket T20 world in 2014?\")\n",
    "print(result)\n"
   ]
  },
  {
   "cell_type": "code",
   "execution_count": null,
   "metadata": {},
   "outputs": [],
   "source": [
    "result = classify_query(\"Who won the cricket T20 world in 2014?\")\n",
    "print(result)\n"
   ]
  }
 ],
 "metadata": {
  "kernelspec": {
   "display_name": "env",
   "language": "python",
   "name": "python3"
  },
  "language_info": {
   "codemirror_mode": {
    "name": "ipython",
    "version": 3
   },
   "file_extension": ".py",
   "mimetype": "text/x-python",
   "name": "python",
   "nbconvert_exporter": "python",
   "pygments_lexer": "ipython3",
   "version": "3.12.2"
  }
 },
 "nbformat": 4,
 "nbformat_minor": 2
}
